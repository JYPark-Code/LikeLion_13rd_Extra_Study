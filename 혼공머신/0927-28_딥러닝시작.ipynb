{
  "nbformat": 4,
  "nbformat_minor": 0,
  "metadata": {
    "colab": {
      "name": "딥러닝시작.ipynb",
      "provenance": [],
      "collapsed_sections": [],
      "toc_visible": true
    },
    "kernelspec": {
      "name": "python3",
      "display_name": "Python 3"
    },
    "language_info": {
      "name": "python"
    },
    "accelerator": "GPU"
  },
  "cells": [
    {
      "cell_type": "markdown",
      "metadata": {
        "id": "kVrrHmB-WwgC"
      },
      "source": [
        "# 07-1. 인공 신경망"
      ]
    },
    {
      "cell_type": "markdown",
      "metadata": {
        "id": "78KZn_CzXDT1"
      },
      "source": [
        "## 패션 MNIST\n",
        "   * 텐서플로우 사용"
      ]
    },
    {
      "cell_type": "code",
      "metadata": {
        "id": "jN_NoOELXB2X",
        "colab": {
          "base_uri": "https://localhost:8080/"
        },
        "outputId": "ef08800e-6ba5-4a69-bb37-a333da8cd793"
      },
      "source": [
        "import tensorflow as tf\n",
        "from tensorflow import keras\n",
        "\n",
        "(train_input, train_target), (test_input, test_target) = tf.keras.datasets.fashion_mnist.load_data()"
      ],
      "execution_count": 1,
      "outputs": [
        {
          "output_type": "stream",
          "name": "stdout",
          "text": [
            "Downloading data from https://storage.googleapis.com/tensorflow/tf-keras-datasets/train-labels-idx1-ubyte.gz\n",
            "32768/29515 [=================================] - 0s 0us/step\n",
            "40960/29515 [=========================================] - 0s 0us/step\n",
            "Downloading data from https://storage.googleapis.com/tensorflow/tf-keras-datasets/train-images-idx3-ubyte.gz\n",
            "26427392/26421880 [==============================] - 0s 0us/step\n",
            "26435584/26421880 [==============================] - 0s 0us/step\n",
            "Downloading data from https://storage.googleapis.com/tensorflow/tf-keras-datasets/t10k-labels-idx1-ubyte.gz\n",
            "16384/5148 [===============================================================================================] - 0s 0us/step\n",
            "Downloading data from https://storage.googleapis.com/tensorflow/tf-keras-datasets/t10k-images-idx3-ubyte.gz\n",
            "4423680/4422102 [==============================] - 0s 0us/step\n",
            "4431872/4422102 [==============================] - 0s 0us/step\n"
          ]
        }
      ]
    },
    {
      "cell_type": "code",
      "metadata": {
        "colab": {
          "base_uri": "https://localhost:8080/"
        },
        "id": "tjNXwK86XZOa",
        "outputId": "dc126473-4065-4ec3-da77-e4fb9633a7db"
      },
      "source": [
        "print(train_input.shape, train_target.shape)"
      ],
      "execution_count": 2,
      "outputs": [
        {
          "output_type": "stream",
          "name": "stdout",
          "text": [
            "(60000, 28, 28) (60000,)\n"
          ]
        }
      ]
    },
    {
      "cell_type": "code",
      "metadata": {
        "colab": {
          "base_uri": "https://localhost:8080/"
        },
        "id": "4kEXqXRxYyFw",
        "outputId": "65ea3e1d-f09c-4b52-83e6-61dd5f6432c8"
      },
      "source": [
        "print(test_input.shape, test_target.shape)"
      ],
      "execution_count": 3,
      "outputs": [
        {
          "output_type": "stream",
          "name": "stdout",
          "text": [
            "(10000, 28, 28) (10000,)\n"
          ]
        }
      ]
    },
    {
      "cell_type": "code",
      "metadata": {
        "colab": {
          "base_uri": "https://localhost:8080/",
          "height": 78
        },
        "id": "-48OADr9Y37u",
        "outputId": "28e5c147-8319-428c-a162-f7fbd25610e7"
      },
      "source": [
        "import matplotlib.pyplot as plt\n",
        "fig, axs = plt.subplots(1, 10, figsize=(10,10))\n",
        "for i in range(10):\n",
        "  axs[i].imshow(train_input[i], cmap='gray_r')\n",
        "  axs[i].axis('off')\n",
        "plt.show()"
      ],
      "execution_count": 4,
      "outputs": [
        {
          "output_type": "display_data",
          "data": {
            "image/png": "[encoded data removed]",
            "text/plain": [
              "<Figure size 720x720 with 10 Axes>"
            ]
          },
          "metadata": {
            "needs_background": "light"
          }
        }
      ]
    },
    {
      "cell_type": "code",
      "metadata": {
        "colab": {
          "base_uri": "https://localhost:8080/"
        },
        "id": "k_1dv8ROb4cV",
        "outputId": "69848358-c121-46c6-a9f0-55ae0af1932c"
      },
      "source": [
        "print([train_target[i] for i in range(10)])"
      ],
      "execution_count": 5,
      "outputs": [
        {
          "output_type": "stream",
          "name": "stdout",
          "text": [
            "[9, 0, 0, 3, 0, 2, 7, 2, 5, 5]\n"
          ]
        }
      ]
    },
    {
      "cell_type": "code",
      "metadata": {
        "colab": {
          "base_uri": "https://localhost:8080/"
        },
        "id": "ywm6fRHjcGDV",
        "outputId": "58fbd2e1-8a67-4f81-cfab-2f1bf520ee78"
      },
      "source": [
        "import numpy as np\n",
        "print(np.unique(train_target, return_counts=True))"
      ],
      "execution_count": 6,
      "outputs": [
        {
          "output_type": "stream",
          "name": "stdout",
          "text": [
            "(array([0, 1, 2, 3, 4, 5, 6, 7, 8, 9], dtype=uint8), array([6000, 6000, 6000, 6000, 6000, 6000, 6000, 6000, 6000, 6000]))\n"
          ]
        }
      ]
    },
    {
      "cell_type": "markdown",
      "metadata": {
        "id": "QrplItGveYow"
      },
      "source": [
        "## 로지스틱 회귀로 패션 아이템 분류하기\n",
        " * 모델이 지금 6만개가 되기에 확률적 경사 하강법 -> SGDClassifier 사용\n",
        " "
      ]
    },
    {
      "cell_type": "code",
      "metadata": {
        "id": "Ibf9lC8BcP1S"
      },
      "source": [
        "train_scaled = train_input / 255.0\n",
        "train_scaled = train_scaled.reshape(-1, 28*28)"
      ],
      "execution_count": 7,
      "outputs": []
    },
    {
      "cell_type": "code",
      "metadata": {
        "colab": {
          "base_uri": "https://localhost:8080/"
        },
        "id": "NhHWv2idiYiq",
        "outputId": "8aa87baa-ba54-4076-faa3-d5940b57cd3d"
      },
      "source": [
        "print(train_scaled.shape)"
      ],
      "execution_count": 8,
      "outputs": [
        {
          "output_type": "stream",
          "name": "stdout",
          "text": [
            "(60000, 784)\n"
          ]
        }
      ]
    },
    {
      "cell_type": "code",
      "metadata": {
        "colab": {
          "base_uri": "https://localhost:8080/"
        },
        "id": "bo68bM6Oieid",
        "outputId": "a079dcae-6f18-44d6-a869-def17e4c2b4c"
      },
      "source": [
        "from sklearn.model_selection import cross_validate\n",
        "from sklearn.linear_model import SGDClassifier\n",
        "sc = SGDClassifier(loss=\"log\", max_iter=5, random_state=42)\n",
        "scores = cross_validate(sc, train_scaled, train_target, n_jobs=-1)\n",
        "print(np.mean(scores[\"test_score\"]))"
      ],
      "execution_count": 9,
      "outputs": [
        {
          "output_type": "stream",
          "name": "stdout",
          "text": [
            "0.8195666666666668\n"
          ]
        }
      ]
    },
    {
      "cell_type": "markdown",
      "metadata": {
        "id": "sOSsKIuMjpHd"
      },
      "source": [
        "## 인공 신경망\n",
        "  * 이론 설명"
      ]
    },
    {
      "cell_type": "markdown",
      "metadata": {
        "id": "YQSWd8CYmlai"
      },
      "source": [
        "## 인공 신경망으로 모델만들기"
      ]
    },
    {
      "cell_type": "code",
      "metadata": {
        "id": "1WW8Fz2li6gi"
      },
      "source": [
        "from sklearn.model_selection import train_test_split\n",
        "train_scaled, val_scaled, train_target, val_target = train_test_split(\n",
        "    train_scaled, train_target, test_size=0.2, random_state=42)"
      ],
      "execution_count": 10,
      "outputs": []
    },
    {
      "cell_type": "code",
      "metadata": {
        "colab": {
          "base_uri": "https://localhost:8080/"
        },
        "id": "k-SrHGprm57R",
        "outputId": "9f264008-3e10-400e-c8e2-6ca6b0f71599"
      },
      "source": [
        "print(train_scaled.shape, train_target.shape)"
      ],
      "execution_count": 11,
      "outputs": [
        {
          "output_type": "stream",
          "name": "stdout",
          "text": [
            "(48000, 784) (48000,)\n"
          ]
        }
      ]
    },
    {
      "cell_type": "code",
      "metadata": {
        "colab": {
          "base_uri": "https://localhost:8080/"
        },
        "id": "fUorXy1snJNH",
        "outputId": "a52435ed-7ceb-4691-8b04-25b26c61b6c3"
      },
      "source": [
        "print(val_scaled.shape, val_target.shape)"
      ],
      "execution_count": 12,
      "outputs": [
        {
          "output_type": "stream",
          "name": "stdout",
          "text": [
            "(12000, 784) (12000,)\n"
          ]
        }
      ]
    },
    {
      "cell_type": "code",
      "metadata": {
        "id": "uFF2-r0vnjQZ"
      },
      "source": [
        "# 뉴런 개수 10, 뉴런 출력에 적용할 함수 - softmax, 입력의 크기\n",
        "dense = keras.layers.Dense(10, activation=\"softmax\", input_shape=(784,))"
      ],
      "execution_count": 13,
      "outputs": []
    },
    {
      "cell_type": "code",
      "metadata": {
        "id": "0JBo1i-SYnK_"
      },
      "source": [
        "model = keras.Sequential(dense)"
      ],
      "execution_count": 14,
      "outputs": []
    },
    {
      "cell_type": "markdown",
      "metadata": {
        "id": "3vwY83vqY5ud"
      },
      "source": [
        "* 소프트맥스 함수는 뉴런의 출력에 바로 적용되어 보통 층의 일부로 나타낸다."
      ]
    },
    {
      "cell_type": "markdown",
      "metadata": {
        "id": "fJIdXibAZCsi"
      },
      "source": [
        "## 인공 신경망으로 패션 아이템 분류하기\n",
        "* (사이킷런과 달리) 케라스는 훈련 전 단계에서 model의 complie() 메소드를 수행한다."
      ]
    },
    {
      "cell_type": "code",
      "metadata": {
        "id": "NVBaHD9BYx1C"
      },
      "source": [
        "model.compile(loss=\"sparse_categorical_crossentropy\", metrics=\"accuracy\")"
      ],
      "execution_count": 15,
      "outputs": []
    },
    {
      "cell_type": "markdown",
      "metadata": {
        "id": "JEuTC3u3Z1ge"
      },
      "source": [
        "* 4장에서 이진 분류를 진행 시, 이진 크로스 엔트로피 손실 함수를 사용한다.\n",
        "* 다중 분류에서는 크로스 엔트로피 손실 함수를 사용한다.\n",
        "* 케라스에선 이 두개의 손실 함수를 각각\n",
        "   * 이진 분류 : binary_crossentropy\n",
        "   * 다중 분류 : categorical_crossentropy\n",
        "* 라고 칭한다."
      ]
    },
    {
      "cell_type": "code",
      "metadata": {
        "colab": {
          "base_uri": "https://localhost:8080/"
        },
        "id": "M2LLOQQjZanZ",
        "outputId": "5b268624-787f-41b4-9bdf-c0cae58e8114"
      },
      "source": [
        "print(train_target[:10])"
      ],
      "execution_count": 16,
      "outputs": [
        {
          "output_type": "stream",
          "name": "stdout",
          "text": [
            "[7 3 5 8 6 9 3 3 9 9]\n"
          ]
        }
      ]
    },
    {
      "cell_type": "code",
      "metadata": {
        "colab": {
          "base_uri": "https://localhost:8080/"
        },
        "id": "hLqe9w_2a4Ip",
        "outputId": "995c0986-e6e7-4dcc-e867-5d442ffb9c81"
      },
      "source": [
        "model.fit(train_scaled, train_target, epochs=5)"
      ],
      "execution_count": 17,
      "outputs": [
        {
          "output_type": "stream",
          "name": "stdout",
          "text": [
            "Epoch 1/5\n",
            "1500/1500 [==============================] - 6s 2ms/step - loss: 0.6096 - accuracy: 0.7920\n",
            "Epoch 2/5\n",
            "1500/1500 [==============================] - 3s 2ms/step - loss: 0.4789 - accuracy: 0.8392\n",
            "Epoch 3/5\n",
            "1500/1500 [==============================] - 3s 2ms/step - loss: 0.4582 - accuracy: 0.8474\n",
            "Epoch 4/5\n",
            "1500/1500 [==============================] - 3s 2ms/step - loss: 0.4453 - accuracy: 0.8525\n",
            "Epoch 5/5\n",
            "1500/1500 [==============================] - 3s 2ms/step - loss: 0.4376 - accuracy: 0.8547\n"
          ]
        },
        {
          "output_type": "execute_result",
          "data": {
            "text/plain": [
              "<keras.callbacks.History at 0x7fa7102f1090>"
            ]
          },
          "metadata": {},
          "execution_count": 17
        }
      ]
    },
    {
      "cell_type": "markdown",
      "metadata": {
        "id": "hNpFo-PbbbAU"
      },
      "source": [
        "* 에포크당 손실 정확도를 보여주고, 이제 따로 떼어낸 검증 세트에서 모델 성능 확인하자.\n",
        "* evaluate() 함수를 사용한다."
      ]
    },
    {
      "cell_type": "code",
      "metadata": {
        "colab": {
          "base_uri": "https://localhost:8080/"
        },
        "id": "iqPpG0wabCuy",
        "outputId": "d4200b34-31df-42ec-a738-59ca4006cb7c"
      },
      "source": [
        "model.evaluate(val_scaled, val_target)"
      ],
      "execution_count": 18,
      "outputs": [
        {
          "output_type": "stream",
          "name": "stdout",
          "text": [
            "375/375 [==============================] - 1s 2ms/step - loss: 0.4473 - accuracy: 0.8483\n"
          ]
        },
        {
          "output_type": "execute_result",
          "data": {
            "text/plain": [
              "[0.44727250933647156, 0.8483333587646484]"
            ]
          },
          "metadata": {},
          "execution_count": 18
        }
      ]
    },
    {
      "cell_type": "markdown",
      "metadata": {
        "id": "DEuuaCAJbyVA"
      },
      "source": [
        "아주 이상적으로 책보다 잘 됬다. ( 랜덤으로 훈련하기에 더 나은 결과)"
      ]
    },
    {
      "cell_type": "markdown",
      "metadata": {
        "id": "brUStlbOb4jN"
      },
      "source": [
        "## 인공 신경망 모델로 성능 향상 - (07-1 총리뷰)\n",
        "\n",
        "## 마무리 문제 1번 - 입력 특성 100개 뉴런 10개\n",
        "\n",
        "* 100 * 10 + 10 (뉴런 1개당 필요한 절편) = 1010개\n"
      ]
    },
    {
      "cell_type": "markdown",
      "metadata": {
        "id": "cTMa2EitcwiW"
      },
      "source": [
        "# 07-2. 심층 신경망\n",
        "* 앞 단원에서 만들었던 인공 신경망에 층을 여러개 추가하여 MNIST 데이터 셋을 분류 후 케라스로 심층 신경망 만들기"
      ]
    },
    {
      "cell_type": "markdown",
      "metadata": {
        "id": "1N4mwn3Oc1XK"
      },
      "source": [
        "## 두개의 층\n"
      ]
    },
    {
      "cell_type": "code",
      "metadata": {
        "id": "-UZI0Kvxbt3N"
      },
      "source": [
        "import tensorflow as tf\n",
        "from tensorflow import keras\n",
        "\n",
        "(train_input, train_target), (test_input, test_target) = tf.keras.datasets.fashion_mnist.load_data()"
      ],
      "execution_count": 19,
      "outputs": []
    },
    {
      "cell_type": "code",
      "metadata": {
        "id": "9hmGMOgOdLAK"
      },
      "source": [
        "from sklearn.model_selection import train_test_split\n",
        "train_scaled = train_input / 255.0\n",
        "train_scaled = train_scaled.reshape(-1, 28*28)\n",
        "train_scaled, val_scaled, train_target, val_target = train_test_split(\n",
        "    train_scaled, train_target, test_size=0.2, random_state=42\n",
        ")"
      ],
      "execution_count": 20,
      "outputs": []
    },
    {
      "cell_type": "code",
      "metadata": {
        "id": "z_lGJ0t_di_9"
      },
      "source": [
        "dense1 = keras.layers.Dense(100, activation=\"sigmoid\", input_shape=(784,))\n",
        "dense2 = keras.layers.Dense(10, activation=\"softmax\")"
      ],
      "execution_count": 21,
      "outputs": []
    },
    {
      "cell_type": "markdown",
      "metadata": {
        "id": "P7qNA92yfV6E"
      },
      "source": [
        "## 심층 신경망 만들기 (DNN)\n",
        "* Deep Neural Network"
      ]
    },
    {
      "cell_type": "code",
      "metadata": {
        "id": "JWmdZK9CfGQb"
      },
      "source": [
        "model = keras.Sequential([dense1, dense2])"
      ],
      "execution_count": 22,
      "outputs": []
    },
    {
      "cell_type": "code",
      "metadata": {
        "colab": {
          "base_uri": "https://localhost:8080/"
        },
        "id": "BWQ_m9ZyfpJc",
        "outputId": "e914233f-a1c7-40f8-d924-9a5904e3d734"
      },
      "source": [
        "model.summary()"
      ],
      "execution_count": 23,
      "outputs": [
        {
          "output_type": "stream",
          "name": "stdout",
          "text": [
            "Model: \"sequential_1\"\n",
            "_________________________________________________________________\n",
            "Layer (type)                 Output Shape              Param #   \n",
            "=================================================================\n",
            "dense_1 (Dense)              (None, 100)               78500     \n",
            "_________________________________________________________________\n",
            "dense_2 (Dense)              (None, 10)                1010      \n",
            "=================================================================\n",
            "Total params: 79,510\n",
            "Trainable params: 79,510\n",
            "Non-trainable params: 0\n",
            "_________________________________________________________________\n"
          ]
        }
      ]
    },
    {
      "cell_type": "markdown",
      "metadata": {
        "id": "lzvenb4IgGOv"
      },
      "source": [
        "## 층을 추가하는 다른 방법\n",
        "- Sequential 대신 Dense 객체 사용하기"
      ]
    },
    {
      "cell_type": "code",
      "metadata": {
        "id": "xXJO1w2cfvFx"
      },
      "source": [
        "model = keras.Sequential([\n",
        "                          keras.layers.Dense(100, activation=\"sigmoid\", input_shape=(784,),\n",
        "                                             name=\"hidden\"),\n",
        "                          keras.layers.Dense(10, activation=\"softmax\", name=\"output\")],\n",
        "                         name = \"패션 MNIST 모델\")\n"
      ],
      "execution_count": 24,
      "outputs": []
    },
    {
      "cell_type": "code",
      "metadata": {
        "colab": {
          "base_uri": "https://localhost:8080/"
        },
        "id": "ZZ4pzRIngnDr",
        "outputId": "bef19569-251e-4f75-8a49-0a7f84e3e77c"
      },
      "source": [
        "model.summary()"
      ],
      "execution_count": 25,
      "outputs": [
        {
          "output_type": "stream",
          "name": "stdout",
          "text": [
            "Model: \"패션 MNIST 모델\"\n",
            "_________________________________________________________________\n",
            "Layer (type)                 Output Shape              Param #   \n",
            "=================================================================\n",
            "hidden (Dense)               (None, 100)               78500     \n",
            "_________________________________________________________________\n",
            "output (Dense)               (None, 10)                1010      \n",
            "=================================================================\n",
            "Total params: 79,510\n",
            "Trainable params: 79,510\n",
            "Non-trainable params: 0\n",
            "_________________________________________________________________\n"
          ]
        }
      ]
    },
    {
      "cell_type": "markdown",
      "metadata": {
        "id": "IRtkJPN3gtM0"
      },
      "source": [
        "* 위처럼하면 생성자가 길어져 add 함수를 쓰는게 편리하다"
      ]
    },
    {
      "cell_type": "code",
      "metadata": {
        "id": "cjeGZ3n-gonG"
      },
      "source": [
        "model = keras.Sequential()\n",
        "model.add(keras.layers.Dense(100, activation=\"sigmoid\", input_shape=(784,)))\n",
        "model.add(keras.layers.Dense(10, activation=\"softmax\"))"
      ],
      "execution_count": 26,
      "outputs": []
    },
    {
      "cell_type": "code",
      "metadata": {
        "colab": {
          "base_uri": "https://localhost:8080/"
        },
        "id": "ngL21vDTg_SH",
        "outputId": "95c6cf70-84d6-43af-95c3-076971448935"
      },
      "source": [
        "model.summary()"
      ],
      "execution_count": 27,
      "outputs": [
        {
          "output_type": "stream",
          "name": "stdout",
          "text": [
            "Model: \"sequential_2\"\n",
            "_________________________________________________________________\n",
            "Layer (type)                 Output Shape              Param #   \n",
            "=================================================================\n",
            "dense_3 (Dense)              (None, 100)               78500     \n",
            "_________________________________________________________________\n",
            "dense_4 (Dense)              (None, 10)                1010      \n",
            "=================================================================\n",
            "Total params: 79,510\n",
            "Trainable params: 79,510\n",
            "Non-trainable params: 0\n",
            "_________________________________________________________________\n"
          ]
        }
      ]
    },
    {
      "cell_type": "code",
      "metadata": {
        "colab": {
          "base_uri": "https://localhost:8080/"
        },
        "id": "ONFkOvtBhAot",
        "outputId": "07915f80-cf94-4527-9638-79f884f49bb2"
      },
      "source": [
        "model.compile(loss=\"sparse_categorical_crossentropy\", metrics=\"accuracy\")\n",
        "model.fit(train_scaled, train_target, epochs=5)"
      ],
      "execution_count": 28,
      "outputs": [
        {
          "output_type": "stream",
          "name": "stdout",
          "text": [
            "Epoch 1/5\n",
            "1500/1500 [==============================] - 4s 2ms/step - loss: 0.5610 - accuracy: 0.8076\n",
            "Epoch 2/5\n",
            "1500/1500 [==============================] - 3s 2ms/step - loss: 0.4083 - accuracy: 0.8527\n",
            "Epoch 3/5\n",
            "1500/1500 [==============================] - 4s 2ms/step - loss: 0.3738 - accuracy: 0.8646\n",
            "Epoch 4/5\n",
            "1500/1500 [==============================] - 3s 2ms/step - loss: 0.3513 - accuracy: 0.8736\n",
            "Epoch 5/5\n",
            "1500/1500 [==============================] - 4s 2ms/step - loss: 0.3340 - accuracy: 0.8787\n"
          ]
        },
        {
          "output_type": "execute_result",
          "data": {
            "text/plain": [
              "<keras.callbacks.History at 0x7fa7100b0750>"
            ]
          },
          "metadata": {},
          "execution_count": 28
        }
      ]
    },
    {
      "cell_type": "markdown",
      "metadata": {
        "id": "dGvnWsuJhum0"
      },
      "source": [
        "* 추가 시킨 레이어때문에 성능이 향상 되었다. (+0.2)\n"
      ]
    },
    {
      "cell_type": "markdown",
      "metadata": {
        "id": "qc6PEwdCh_L5"
      },
      "source": [
        "## 렐루 함수\n",
        "* ReLU 함수\n",
        "* 초창기에 은닉층에서 가장 많이 사용된 활성화 함수는 (아까 쓴) 시그모이드\n",
        "  * 시그모이드 함수는 오른쪽 위로 갈수록 그래프가 누워있으므로 올바른 출력에 대응하지 못함.\n",
        "\n",
        "* 렐루 함수는 입력이 0일때 0이며, 양수일땐 거의 y = x 선그래프 형태의 형태\n",
        "* 패션 데이터는 넘파이의 reshape를 사용해 1차원으로 펼쳤는데,\n",
        "* 여기선 케라스의 Flatten을 사용해본다.\n",
        "* Flatten 클라스는 배치 차원을 제외하고 나머지 입력 차원을 모두 일렬로 펼치는 역할이므로 가중치나 절편이 없다.\n",
        "  * 인공 신경망 성능에 기여하는 것이 없다."
      ]
    },
    {
      "cell_type": "code",
      "metadata": {
        "id": "jFLI8D4OhjN2"
      },
      "source": [
        "model = keras.Sequential()\n",
        "model.add(keras.layers.Flatten(input_shape=(28, 28)))\n",
        "model.add(keras.layers.Dense(100, activation=\"relu\"))\n",
        "model.add(keras.layers.Dense(10, activation=\"softmax\"))"
      ],
      "execution_count": 29,
      "outputs": []
    },
    {
      "cell_type": "code",
      "metadata": {
        "colab": {
          "base_uri": "https://localhost:8080/"
        },
        "id": "yJmKtltumAh6",
        "outputId": "602181d1-4d61-4057-f1b1-ab66b1591c9d"
      },
      "source": [
        "model.summary()"
      ],
      "execution_count": 30,
      "outputs": [
        {
          "output_type": "stream",
          "name": "stdout",
          "text": [
            "Model: \"sequential_3\"\n",
            "_________________________________________________________________\n",
            "Layer (type)                 Output Shape              Param #   \n",
            "=================================================================\n",
            "flatten (Flatten)            (None, 784)               0         \n",
            "_________________________________________________________________\n",
            "dense_5 (Dense)              (None, 100)               78500     \n",
            "_________________________________________________________________\n",
            "dense_6 (Dense)              (None, 10)                1010      \n",
            "=================================================================\n",
            "Total params: 79,510\n",
            "Trainable params: 79,510\n",
            "Non-trainable params: 0\n",
            "_________________________________________________________________\n"
          ]
        }
      ]
    },
    {
      "cell_type": "markdown",
      "metadata": {
        "id": "7D09uamQmMS-"
      },
      "source": [
        "* Flatten 층을 신경망 모델에 추가하면 입력값의 차원을 짐작할수 있는게 장점이다. -> Output shape\n"
      ]
    },
    {
      "cell_type": "code",
      "metadata": {
        "id": "NjSBu81XmER7"
      },
      "source": [
        "(train_input, train_target), (test_input, test_target) = tf.keras.datasets.fashion_mnist.load_data()\n",
        "train_scaled = train_input / 255.0\n",
        "train_scaled, val_scaled, train_target, val_target = train_test_split(\n",
        "    train_scaled, train_target, test_size=0.2, random_state=42\n",
        ")"
      ],
      "execution_count": 31,
      "outputs": []
    },
    {
      "cell_type": "code",
      "metadata": {
        "colab": {
          "base_uri": "https://localhost:8080/"
        },
        "id": "ED0SlfpYnZt7",
        "outputId": "2723e579-8d25-45c5-f1b1-b458fefa6a90"
      },
      "source": [
        "model.compile(loss=\"sparse_categorical_crossentropy\", metrics=\"accuracy\")\n",
        "model.fit(train_scaled, train_target, epochs=5)"
      ],
      "execution_count": 32,
      "outputs": [
        {
          "output_type": "stream",
          "name": "stdout",
          "text": [
            "Epoch 1/5\n",
            "1500/1500 [==============================] - 4s 2ms/step - loss: 0.5274 - accuracy: 0.8126\n",
            "Epoch 2/5\n",
            "1500/1500 [==============================] - 4s 2ms/step - loss: 0.3891 - accuracy: 0.8605\n",
            "Epoch 3/5\n",
            "1500/1500 [==============================] - 4s 2ms/step - loss: 0.3503 - accuracy: 0.8735\n",
            "Epoch 4/5\n",
            "1500/1500 [==============================] - 4s 2ms/step - loss: 0.3325 - accuracy: 0.8803\n",
            "Epoch 5/5\n",
            "1500/1500 [==============================] - 4s 2ms/step - loss: 0.3184 - accuracy: 0.8865\n"
          ]
        },
        {
          "output_type": "execute_result",
          "data": {
            "text/plain": [
              "<keras.callbacks.History at 0x7fa699304110>"
            ]
          },
          "metadata": {},
          "execution_count": 32
        }
      ]
    },
    {
      "cell_type": "markdown",
      "metadata": {
        "id": "xddjpwWAq2vA"
      },
      "source": [
        "## 옵티마이저\n",
        "* 하이퍼파라미터 설정\n",
        "* 여러개의 은닉층을 추가 가능하다. -> 하이퍼파라미터 지정.\n",
        "\n",
        "**케라스**\n",
        "* 케라스는 기본적으로 미니배치 경사 하강법을 사용하며, 미니배치 수는 32개입니다.\n",
        "* fit() 메서드의 batch_size 매개변수를 이를 조정할수 있고, 역시 하이퍼파라미터입니다.\n",
        "* compile() 메서드는 기본 경사 하강법 알고리즘 - RMSprop을 사용한다.\n",
        "\n",
        "가장 기본이 되는 옵티마이저는 **SGD**"
      ]
    },
    {
      "cell_type": "code",
      "metadata": {
        "id": "Y3XpM-bCpFED"
      },
      "source": [
        "model.compile(optimizer=\"sgd\", loss=\"sparse_categorical_crossentropy\", metrics=\"accuracy\")"
      ],
      "execution_count": 33,
      "outputs": []
    },
    {
      "cell_type": "code",
      "metadata": {
        "id": "DevS_5he04-x"
      },
      "source": [
        "# 위에 실행 시킨 코드와 100% 일치함 - 위에는 자동으로 sgd 객체를 만들어준 것이고 , 이 코드는 수동으로 만든 것.\n",
        "sgd = keras.optimizers.SGD(learning_rate=0.1) # 디폴트는 0.01\n",
        "model.compile(optimizer=\"sgd\", loss=\"sparse_categorical_crossentropy\", metrics=\"accuracy\")"
      ],
      "execution_count": 34,
      "outputs": []
    },
    {
      "cell_type": "markdown",
      "metadata": {
        "id": "2bkn5s8P11VU"
      },
      "source": [
        "* 다음 추가적으로 할 작업 : 모멘텀 최적화\n",
        "  * 모멘텀 최적화의 매개변수는 0.9로 설정한다\n",
        "* SGD 클라스의 nesterov를 활성화 시키면 네스테로프 모멘텀 최적화를 사용한다."
      ]
    },
    {
      "cell_type": "code",
      "metadata": {
        "id": "sXthSiqS09Fr"
      },
      "source": [
        "sgd = keras.optimizers.SGD(momentum=0.9, nesterov=True)"
      ],
      "execution_count": 35,
      "outputs": []
    },
    {
      "cell_type": "markdown",
      "metadata": {
        "id": "XsVxLl-82VZ6"
      },
      "source": [
        "* 네스테로프 모멘텀 최적화의 경후 기본 확률적 경사 하강법 보다 더 나은 성능이다.\n",
        "  * 모멘텀 최적화를 2번 반복하여 구현한다.\n",
        "* 최적점에 수렴하는 것을 적응적 학습률(adaptive learning rate)이라 한다.\n",
        "* 적응적 학습률애 사용하는 옵티마이저는 Adagrad 와 RMSprop이다. 이중 디폴트는 RMSprop이다."
      ]
    },
    {
      "cell_type": "code",
      "metadata": {
        "id": "gZnPk4hT2LlD"
      },
      "source": [
        "adagrad = keras.optimizers.Adagrad()\n",
        "model.compile(optimizer=adagrad, loss=\"sparse_categorical_crossentropy\", \n",
        "              metrics=\"accuracy\")"
      ],
      "execution_count": 36,
      "outputs": []
    },
    {
      "cell_type": "code",
      "metadata": {
        "id": "ilKu6Pho2_7I"
      },
      "source": [
        "rmsprop = keras.optimizers.RMSprop()\n",
        "model.compile(optimizer=rmsprop, loss=\"sparse_categorical_crossentropy\", \n",
        "              metrics=\"accuracy\")"
      ],
      "execution_count": 37,
      "outputs": []
    },
    {
      "cell_type": "markdown",
      "metadata": {
        "id": "cIdVSvYm3L-a"
      },
      "source": [
        "모멘텀 최적화와 RMSprop의 장점을 접목한 것이 Adam\n",
        "* 3개의 클라스 모두 learning_rate가 0.001을 사용한다.\n",
        "  * RMSprop , Adam, SGD"
      ]
    },
    {
      "cell_type": "code",
      "metadata": {
        "id": "1H86ZKzb3HVd"
      },
      "source": [
        "model = keras.Sequential()\n",
        "model.add(keras.layers.Flatten(input_shape=(28,28)))\n",
        "model.add(keras.layers.Dense(100, activation=\"relu\"))\n",
        "model.add(keras.layers.Dense(10, activation=\"softmax\"))"
      ],
      "execution_count": 38,
      "outputs": []
    },
    {
      "cell_type": "code",
      "metadata": {
        "colab": {
          "base_uri": "https://localhost:8080/"
        },
        "id": "M0dlWDEN303y",
        "outputId": "47531f02-d5b8-46b7-bf6b-7b1ff6c52317"
      },
      "source": [
        "model.compile(optimizer=\"adam\", loss=\"sparse_categorical_crossentropy\",\n",
        "              metrics=\"accuracy\")\n",
        "model.fit(train_scaled, train_target, epochs=5)"
      ],
      "execution_count": 39,
      "outputs": [
        {
          "output_type": "stream",
          "name": "stdout",
          "text": [
            "Epoch 1/5\n",
            "1500/1500 [==============================] - 4s 2ms/step - loss: 0.5245 - accuracy: 0.8164\n",
            "Epoch 2/5\n",
            "1500/1500 [==============================] - 3s 2ms/step - loss: 0.3920 - accuracy: 0.8595\n",
            "Epoch 3/5\n",
            "1500/1500 [==============================] - 3s 2ms/step - loss: 0.3526 - accuracy: 0.8726\n",
            "Epoch 4/5\n",
            "1500/1500 [==============================] - 3s 2ms/step - loss: 0.3243 - accuracy: 0.8825\n",
            "Epoch 5/5\n",
            "1500/1500 [==============================] - 3s 2ms/step - loss: 0.3056 - accuracy: 0.8873\n"
          ]
        },
        {
          "output_type": "execute_result",
          "data": {
            "text/plain": [
              "<keras.callbacks.History at 0x7fa6989da9d0>"
            ]
          },
          "metadata": {},
          "execution_count": 39
        }
      ]
    },
    {
      "cell_type": "code",
      "metadata": {
        "colab": {
          "base_uri": "https://localhost:8080/"
        },
        "id": "B-K34VSz4DXP",
        "outputId": "7333ca64-7bc3-4cbc-b143-ea50f0b6ba9f"
      },
      "source": [
        "model.evaluate(val_scaled, val_target)"
      ],
      "execution_count": 40,
      "outputs": [
        {
          "output_type": "stream",
          "name": "stdout",
          "text": [
            "375/375 [==============================] - 1s 2ms/step - loss: 0.3680 - accuracy: 0.8677\n"
          ]
        },
        {
          "output_type": "execute_result",
          "data": {
            "text/plain": [
              "[0.36795496940612793, 0.8676666617393494]"
            ]
          },
          "metadata": {},
          "execution_count": 40
        }
      ]
    },
    {
      "cell_type": "markdown",
      "metadata": {
        "id": "i9fmhoeG4WVP"
      },
      "source": [
        "# 07-3. 신경망 모델 훈련"
      ]
    },
    {
      "cell_type": "markdown",
      "metadata": {
        "id": "4h57Vfcjemwe"
      },
      "source": [
        "## 손실곡선\n",
        "* keras의 fit 메소드는 History 객체를 반환한다."
      ]
    },
    {
      "cell_type": "code",
      "metadata": {
        "id": "1j2X8kbh4MXS"
      },
      "source": [
        "import tensorflow as tf\n",
        "from tensorflow import keras\n",
        "from sklearn.model_selection import train_test_split\n",
        "\n",
        "(train_input, train_target), (test_input, test_target) = tf.keras.datasets.fashion_mnist.load_data()\n",
        "train_scaled = train_input / 255.0\n",
        "train_scaled, val_scaled, train_target, val_target = train_test_split(\n",
        "    train_scaled, train_target, test_size=0.2, random_state=42\n",
        ")"
      ],
      "execution_count": 41,
      "outputs": []
    },
    {
      "cell_type": "code",
      "metadata": {
        "id": "3f3zD0sPfUZJ"
      },
      "source": [
        "def model_fn(a_layer=None):\n",
        "  model = keras.Sequential()\n",
        "  model.add(keras.layers.Flatten(input_shape=(28,28)))\n",
        "  model.add(keras.layers.Dense(100, activation=\"relu\"))\n",
        "  if a_layer:\n",
        "    model.add(a_layer)\n",
        "  model.add(keras.layers.Dense(10, activation=\"softmax\"))\n",
        "  return model"
      ],
      "execution_count": 42,
      "outputs": []
    },
    {
      "cell_type": "markdown",
      "metadata": {
        "id": "4pN0AQnZgd8a"
      },
      "source": [
        "이전과 똑같은 모델을 만드나 if 구문으로 역할은 model_fn() 함수에 케라스층을 추가시, 은닉층 뒤에 또 하나의 층을 추가하는 것."
      ]
    },
    {
      "cell_type": "code",
      "metadata": {
        "colab": {
          "base_uri": "https://localhost:8080/"
        },
        "id": "Gp2BBFhEf8FQ",
        "outputId": "411fc1fb-38fe-4c6a-9d78-e9ef4d1beabb"
      },
      "source": [
        "model = model_fn()\n",
        "model.summary()"
      ],
      "execution_count": 43,
      "outputs": [
        {
          "output_type": "stream",
          "name": "stdout",
          "text": [
            "Model: \"sequential_5\"\n",
            "_________________________________________________________________\n",
            "Layer (type)                 Output Shape              Param #   \n",
            "=================================================================\n",
            "flatten_2 (Flatten)          (None, 784)               0         \n",
            "_________________________________________________________________\n",
            "dense_9 (Dense)              (None, 100)               78500     \n",
            "_________________________________________________________________\n",
            "dense_10 (Dense)             (None, 10)                1010      \n",
            "=================================================================\n",
            "Total params: 79,510\n",
            "Trainable params: 79,510\n",
            "Non-trainable params: 0\n",
            "_________________________________________________________________\n"
          ]
        }
      ]
    },
    {
      "cell_type": "markdown",
      "metadata": {
        "id": "fZ1GoOA_gZCi"
      },
      "source": [
        "fit()의 결과를 History에 담으면"
      ]
    },
    {
      "cell_type": "code",
      "metadata": {
        "id": "PExB2oFZf_Y_"
      },
      "source": [
        "model.compile(loss=\"sparse_categorical_crossentropy\", metrics=\"accuracy\")\n",
        "history = model.fit(train_scaled, train_target, epochs=5, verbose=0)"
      ],
      "execution_count": 44,
      "outputs": []
    },
    {
      "cell_type": "code",
      "metadata": {
        "colab": {
          "base_uri": "https://localhost:8080/"
        },
        "id": "q2Y3KfFvg6DV",
        "outputId": "20acbc04-1a07-44a4-b6a3-42480013f748"
      },
      "source": [
        "print(history.history.keys())"
      ],
      "execution_count": 45,
      "outputs": [
        {
          "output_type": "stream",
          "name": "stdout",
          "text": [
            "dict_keys(['loss', 'accuracy'])\n"
          ]
        }
      ]
    },
    {
      "cell_type": "markdown",
      "metadata": {
        "id": "skY6ADiJhHRc"
      },
      "source": [
        "손실과 정확도를 맷플롯으로 그리기"
      ]
    },
    {
      "cell_type": "code",
      "metadata": {
        "colab": {
          "base_uri": "https://localhost:8080/",
          "height": 279
        },
        "id": "nhymUyEehDa4",
        "outputId": "b91e0da3-2a60-4444-ab75-03386b15e283"
      },
      "source": [
        "import matplotlib.pyplot as plt\n",
        "plt.plot(history.history[\"loss\"])\n",
        "plt.xlabel(\"epoch\")\n",
        "plt.ylabel(\"loss\")\n",
        "plt.show()"
      ],
      "execution_count": 46,
      "outputs": [
        {
          "output_type": "display_data",
          "data": {
            "image/png": "[encoded data removed]",
            "text/plain": [
              "<Figure size 432x288 with 1 Axes>"
            ]
          },
          "metadata": {
            "needs_background": "light"
          }
        }
      ]
    },
    {
      "cell_type": "code",
      "metadata": {
        "colab": {
          "base_uri": "https://localhost:8080/",
          "height": 279
        },
        "id": "fDlRWB6EhVJ1",
        "outputId": "12d9fe08-2b7c-4a30-b0de-94820cdb7590"
      },
      "source": [
        "plt.plot(history.history[\"accuracy\"])\n",
        "plt.xlabel(\"epoch\")\n",
        "plt.ylabel(\"accuracy\")\n",
        "plt.show()"
      ],
      "execution_count": 47,
      "outputs": [
        {
          "output_type": "display_data",
          "data": {
            "image/png": "[encoded data removed]",
            "text/plain": [
              "<Figure size 432x288 with 1 Axes>"
            ]
          },
          "metadata": {
            "needs_background": "light"
          }
        }
      ]
    },
    {
      "cell_type": "markdown",
      "metadata": {
        "id": "nM2fcmwYhgvA"
      },
      "source": [
        "에포크가 높아질수록 손실은 낮아지고 정확성은 올라가므로 횟수를 20으로 증가시키고 다시 실행"
      ]
    },
    {
      "cell_type": "code",
      "metadata": {
        "colab": {
          "base_uri": "https://localhost:8080/",
          "height": 281
        },
        "id": "MUb5J5I2hna7",
        "outputId": "a755b3fd-301e-4a46-bd3e-e299168a9fbd"
      },
      "source": [
        "model = model_fn()\n",
        "model.compile(loss=\"sparse_categorical_crossentropy\", metrics=\"accuracy\")\n",
        "history = model.fit(train_scaled, train_target, epochs=20, verbose=0)\n",
        "plt.plot(history.history[\"loss\"])\n",
        "plt.xlabel(\"epoch\")\n",
        "plt.ylabel(\"loss\")\n",
        "plt.show()"
      ],
      "execution_count": 48,
      "outputs": [
        {
          "output_type": "display_data",
          "data": {
            "image/png": "[encoded data removed]",
            "text/plain": [
              "<Figure size 432x288 with 1 Axes>"
            ]
          },
          "metadata": {
            "needs_background": "light"
          }
        }
      ]
    },
    {
      "cell_type": "markdown",
      "metadata": {
        "id": "Gj1vO4BZiTym"
      },
      "source": [
        "예상대로 손실 값이 더 감소한다.\n",
        "   * 하지만, 이전보다 더 나은 모델을 훈련한 것인가?"
      ]
    },
    {
      "cell_type": "markdown",
      "metadata": {
        "id": "POu4y-fJswEr"
      },
      "source": [
        "## 검증 손실\n",
        " * 확률적 경사 하강법 -> 과대/과소 적합과 에포크의 관계를 알아봤다.\n",
        " * 이와 마찬가지로 검증 세트에 대한 점수도 필요하다."
      ]
    },
    {
      "cell_type": "code",
      "metadata": {
        "id": "F47BQGpricYQ"
      },
      "source": [
        "model = model_fn()\n",
        "model.compile(loss=\"sparse_categorical_crossentropy\", metrics=\"accuracy\")\n",
        "history = model.fit(train_scaled, train_target, epochs=20, verbose=0,\n",
        "                   validation_data=(val_scaled, val_target))"
      ],
      "execution_count": 51,
      "outputs": []
    },
    {
      "cell_type": "code",
      "metadata": {
        "colab": {
          "base_uri": "https://localhost:8080/"
        },
        "id": "u_UtLTrOtTLW",
        "outputId": "f67bb987-d003-413a-9a86-187d628d2cb7"
      },
      "source": [
        "print(history.history.keys())"
      ],
      "execution_count": 53,
      "outputs": [
        {
          "output_type": "stream",
          "name": "stdout",
          "text": [
            "dict_keys(['loss', 'accuracy', 'val_loss', 'val_accuracy'])\n"
          ]
        }
      ]
    },
    {
      "cell_type": "code",
      "metadata": {
        "colab": {
          "base_uri": "https://localhost:8080/",
          "height": 279
        },
        "id": "rHFKIixTtbat",
        "outputId": "fff2b632-d225-4e5d-c26a-268b04834527"
      },
      "source": [
        "plt.plot(history.history[\"loss\"])\n",
        "plt.plot(history.history[\"val_loss\"])\n",
        "plt.xlabel(\"epoch\")\n",
        "plt.ylabel(\"loss\")\n",
        "plt.legend([\"train\", \"val\"])\n",
        "plt.show()"
      ],
      "execution_count": 55,
      "outputs": [
        {
          "output_type": "display_data",
          "data": {
            "image/png": "[encoded data removed]",
            "text/plain": [
              "<Figure size 432x288 with 1 Axes>"
            ]
          },
          "metadata": {
            "needs_background": "light"
          }
        }
      ]
    },
    {
      "cell_type": "markdown",
      "metadata": {
        "id": "qya2kXQyt4zs"
      },
      "source": [
        "* 옵티마이저 하이퍼파라미터를 조정해서 과대적합을 완화하도록 한다.\n",
        "    * RMprop 옵티마이저를 사용한다."
      ]
    },
    {
      "cell_type": "code",
      "metadata": {
        "colab": {
          "base_uri": "https://localhost:8080/",
          "height": 279
        },
        "id": "9KM8LHgZtgMR",
        "outputId": "a0aeee59-c3ef-452e-e616-7a479a83c05d"
      },
      "source": [
        "model = model_fn()\n",
        "model.compile(optimizer=\"adam\", loss=\"sparse_categorical_crossentropy\",\n",
        "              metrics=\"accuracy\")\n",
        "history = model.fit(train_scaled, train_target, epochs=20, verbose=0,\n",
        "                    validation_data=(val_scaled, val_target))\n",
        "\n",
        "plt.plot(history.history[\"loss\"])\n",
        "plt.plot(history.history[\"val_loss\"])\n",
        "plt.xlabel(\"epoch\")\n",
        "plt.ylabel(\"loss\")\n",
        "plt.legend([\"train\", \"val\"])\n",
        "plt.show()"
      ],
      "execution_count": 57,
      "outputs": [
        {
          "output_type": "display_data",
          "data": {
            "image/png": "[encoded data removed]",
            "text/plain": [
              "<Figure size 432x288 with 1 Axes>"
            ]
          },
          "metadata": {
            "needs_background": "light"
          }
        }
      ]
    },
    {
      "cell_type": "markdown",
      "metadata": {
        "id": "71OIfDbBu5Ir"
      },
      "source": [
        "## 드롭아웃\n",
        "* 드롭아웃은 딥러닝의 아버지로 불리우는 제프리 힌턴의 소개로\n",
        "  * 훈련과정 중 일부 뉴런을 (은닉층 단계에 끼어들어) 랜덤하게 꺼서 출력을 0으로 만들어 과대적합을 막는다."
      ]
    },
    {
      "cell_type": "code",
      "metadata": {
        "colab": {
          "base_uri": "https://localhost:8080/"
        },
        "id": "6ou-QwbfustB",
        "outputId": "3ec7aca1-a073-442c-c8a1-e6af88a3ec5c"
      },
      "source": [
        "model = model_fn(keras.layers.Dropout(0.3))\n",
        "model.summary()"
      ],
      "execution_count": 59,
      "outputs": [
        {
          "output_type": "stream",
          "name": "stdout",
          "text": [
            "Model: \"sequential_11\"\n",
            "_________________________________________________________________\n",
            "Layer (type)                 Output Shape              Param #   \n",
            "=================================================================\n",
            "flatten_8 (Flatten)          (None, 784)               0         \n",
            "_________________________________________________________________\n",
            "dense_21 (Dense)             (None, 100)               78500     \n",
            "_________________________________________________________________\n",
            "dropout (Dropout)            (None, 100)               0         \n",
            "_________________________________________________________________\n",
            "dense_22 (Dense)             (None, 10)                1010      \n",
            "=================================================================\n",
            "Total params: 79,510\n",
            "Trainable params: 79,510\n",
            "Non-trainable params: 0\n",
            "_________________________________________________________________\n"
          ]
        }
      ]
    },
    {
      "cell_type": "code",
      "metadata": {
        "id": "lxGVR6o5vfIh"
      },
      "source": [
        "model.compile(optimizer=\"adam\", loss=\"sparse_categorical_crossentropy\", \n",
        "              metrics=\"accuracy\")\n",
        "history = model.fit(train_scaled, train_target, epochs=20, verbose=0,\n",
        "                    validation_data=(val_scaled, val_target))"
      ],
      "execution_count": 60,
      "outputs": []
    },
    {
      "cell_type": "code",
      "metadata": {
        "colab": {
          "base_uri": "https://localhost:8080/",
          "height": 279
        },
        "id": "wuOJWXn3v5Wv",
        "outputId": "035100c6-4846-4fa1-db92-a12a176faed7"
      },
      "source": [
        "plt.plot(history.history[\"loss\"])\n",
        "plt.plot(history.history[\"val_loss\"])\n",
        "plt.xlabel(\"epoch\")\n",
        "plt.ylabel(\"loss\")\n",
        "plt.legend([\"train\", \"val\"])\n",
        "plt.show()"
      ],
      "execution_count": 62,
      "outputs": [
        {
          "output_type": "display_data",
          "data": {
            "image/png": "[encoded data removed]",
            "text/plain": [
              "<Figure size 432x288 with 1 Axes>"
            ]
          },
          "metadata": {
            "needs_background": "light"
          }
        }
      ]
    },
    {
      "cell_type": "markdown",
      "metadata": {
        "id": "rLnZyIW6wYMd"
      },
      "source": [
        "* 결론적으로 10이 적당한 에포크였다는 사실을 알게된다."
      ]
    },
    {
      "cell_type": "markdown",
      "metadata": {
        "id": "LNNr5qg-wdv1"
      },
      "source": [
        "## 모델 저장과 복원\n",
        "* 에포크를 10으로 조정하고 모델 훈련하기"
      ]
    },
    {
      "cell_type": "code",
      "metadata": {
        "id": "SryzTDgOwMh-"
      },
      "source": [
        "model = model_fn(keras.layers.Dropout(0.3))\n",
        "model.compile(optimizer=\"adam\", loss=\"sparse_categorical_crossentropy\",\n",
        "              metrics=\"accuracy\")\n",
        "history = model.fit(train_scaled, train_target, epochs=10, verbose=0, \n",
        "                    validation_data=(val_scaled, val_target))"
      ],
      "execution_count": 65,
      "outputs": []
    },
    {
      "cell_type": "code",
      "metadata": {
        "id": "BUgFglYZwt0r"
      },
      "source": [
        "model.save_weights(\"model-weights.h5\")"
      ],
      "execution_count": 66,
      "outputs": []
    },
    {
      "cell_type": "code",
      "metadata": {
        "id": "4veIue9qxlrS"
      },
      "source": [
        "model.save(\"model-whole.h5\")"
      ],
      "execution_count": 67,
      "outputs": []
    },
    {
      "cell_type": "code",
      "metadata": {
        "colab": {
          "base_uri": "https://localhost:8080/"
        },
        "id": "24A30TnwzUzH",
        "outputId": "ad05ab25-c5b5-403f-f909-5d0e3438d379"
      },
      "source": [
        "!ls -al *.h5"
      ],
      "execution_count": 68,
      "outputs": [
        {
          "output_type": "stream",
          "name": "stdout",
          "text": [
            "-rw-r--r-- 1 root root 332480 Sep 28 09:39 model-weights.h5\n",
            "-rw-r--r-- 1 root root 981736 Sep 28 09:47 model-whole.h5\n"
          ]
        }
      ]
    },
    {
      "cell_type": "code",
      "metadata": {
        "id": "IoSVvvLOzXB2"
      },
      "source": [
        "model = model_fn(keras.layers.Dropout(0.3))\n",
        "model.load_weights(\"model-weights.h5\")"
      ],
      "execution_count": 69,
      "outputs": []
    },
    {
      "cell_type": "markdown",
      "metadata": {
        "id": "T_Xw-SFVzpnD"
      },
      "source": [
        "모델 파라미터 두개를 사용했는데\n",
        "* load_weights()\n",
        "* save_weights()\n",
        "저장했던 모델이 정확히 같은 구조를 가져야 에러가 발생하지 않는다."
      ]
    },
    {
      "cell_type": "code",
      "metadata": {
        "colab": {
          "base_uri": "https://localhost:8080/"
        },
        "id": "x3XHpvMkziZw",
        "outputId": "e3a85b4c-1789-4808-ab0f-348dbc1bf305"
      },
      "source": [
        "import numpy as np\n",
        "val_labels = np.argmax(model.predict(val_scaled), axis=-1)\n",
        "print(np.mean(val_labels == val_target))"
      ],
      "execution_count": 71,
      "outputs": [
        {
          "output_type": "stream",
          "name": "stdout",
          "text": [
            "0.881\n"
          ]
        }
      ]
    },
    {
      "cell_type": "code",
      "metadata": {
        "colab": {
          "base_uri": "https://localhost:8080/"
        },
        "id": "uqZmKArX0N8Q",
        "outputId": "8dc2de45-7427-44fb-ed03-d6a1d5a6e091"
      },
      "source": [
        "model = keras.models.load_model('model-whole.h5')\n",
        "model.evaluate(val_scaled, val_target)"
      ],
      "execution_count": 73,
      "outputs": [
        {
          "output_type": "stream",
          "name": "stdout",
          "text": [
            "375/375 [==============================] - 1s 2ms/step - loss: 0.3299 - accuracy: 0.8810\n"
          ]
        },
        {
          "output_type": "execute_result",
          "data": {
            "text/plain": [
              "[0.3299117684364319, 0.8809999823570251]"
            ]
          },
          "metadata": {},
          "execution_count": 73
        }
      ]
    },
    {
      "cell_type": "markdown",
      "metadata": {
        "id": "D9uCDL0N26JV"
      },
      "source": [
        "## 콜백\n",
        "* keras.callbacks\n",
        "* fit() 메서드의 callbacks\n",
        "* ModelCheckpoint\n",
        "  * save_best_only=True (매개변수)를 지정하여 가장 낮은 검증 점수를 만드는 모델을 저장할수 있다."
      ]
    },
    {
      "cell_type": "code",
      "metadata": {
        "colab": {
          "base_uri": "https://localhost:8080/"
        },
        "id": "7Qykvl5Z2v2M",
        "outputId": "5c0a0cb5-ce87-4ae9-f28f-4c068becc495"
      },
      "source": [
        "model = model_fn(keras.layers.Dropout(0.3))\n",
        "model.compile(optimizer=\"adam\", loss=\"sparse_categorical_crossentropy\",\n",
        "              metrics=\"accuracy\")\n",
        "checkpoint_cb = keras.callbacks.ModelCheckpoint(\"best-model.h5\", save_best_only=True)\n",
        "model.fit(train_scaled, train_target, epochs=20, verbose=0,\n",
        "          validation_data=(val_scaled, val_target),\n",
        "          callbacks=[checkpoint_cb])"
      ],
      "execution_count": 76,
      "outputs": [
        {
          "output_type": "execute_result",
          "data": {
            "text/plain": [
              "<keras.callbacks.History at 0x7fa6903e5a10>"
            ]
          },
          "metadata": {},
          "execution_count": 76
        }
      ]
    },
    {
      "cell_type": "code",
      "metadata": {
        "colab": {
          "base_uri": "https://localhost:8080/"
        },
        "id": "OUNUEjQr36mB",
        "outputId": "c0aa7aa8-6cd4-46af-a6e9-d4a88ca9fdb8"
      },
      "source": [
        "model = keras.models.load_model(\"best-model.h5\")\n",
        "model.evaluate(val_scaled, val_target)"
      ],
      "execution_count": 77,
      "outputs": [
        {
          "output_type": "stream",
          "name": "stdout",
          "text": [
            "375/375 [==============================] - 1s 2ms/step - loss: 0.3137 - accuracy: 0.8909\n"
          ]
        },
        {
          "output_type": "execute_result",
          "data": {
            "text/plain": [
              "[0.31369733810424805, 0.890916645526886]"
            ]
          },
          "metadata": {},
          "execution_count": 77
        }
      ]
    },
    {
      "cell_type": "markdown",
      "metadata": {
        "id": "EycsgmV25ltF"
      },
      "source": [
        "ModelCheckpoint가 가장 낮은 검증 점수의 모델을 자동으로 저장하나, 20번의 에포크는 계속 진행된다.\n",
        "* 이때 과대적합이 시작전에 훈련을 중지하는 것을 **조기 종료** 라고 하며 (early stopping) 규제 방법중 하나이다.\n",
        "\n",
        "* 조기 종료를 위해서 EarlyStopping 콜백을 제공하고, patience 매개변수는 검증 점수가 향상되지 않더라도 참을 에포크 횟수로 지정한다.\n",
        "  * patience = 2 일경우 2번 연속 향상되지 않을시 훈련을 중지한다.\n",
        "  * restore_best_weight를 True로 둘 경우 감장 낮은 검증 손실을 낸 모델 파라미터로 되돌린다.\n",
        "\n",
        "두개를 적용해보겠다.\n"
      ]
    },
    {
      "cell_type": "code",
      "metadata": {
        "id": "9_IZ3kUs4-yA"
      },
      "source": [
        "model = model_fn(keras.layers.Dropout(0.3))\n",
        "model.compile(optimizer=\"adam\", loss=\"sparse_categorical_crossentropy\",\n",
        "              metrics=\"accuracy\")\n",
        "checkpoint_cb = keras.callbacks.ModelCheckpoint(\"best-model.h5\", save_best_only=True)\n",
        "early_stopping_cb = keras.callbacks.EarlyStopping(patience=2,\n",
        "                                                  restore_best_weights=True)\n",
        "history = model.fit(train_scaled, train_target, epochs=20, verbose=0,\n",
        "          validation_data=(val_scaled, val_target),\n",
        "          callbacks=[checkpoint_cb, early_stopping_cb])"
      ],
      "execution_count": 79,
      "outputs": []
    },
    {
      "cell_type": "code",
      "metadata": {
        "colab": {
          "base_uri": "https://localhost:8080/"
        },
        "id": "IL81kQIh7rlG",
        "outputId": "7665b093-74f4-4c96-b536-1ca7ed575cee"
      },
      "source": [
        "print(early_stopping_cb.stopped_epoch)"
      ],
      "execution_count": 80,
      "outputs": [
        {
          "output_type": "stream",
          "name": "stdout",
          "text": [
            "13\n"
          ]
        }
      ]
    },
    {
      "cell_type": "code",
      "metadata": {
        "colab": {
          "base_uri": "https://localhost:8080/",
          "height": 279
        },
        "id": "s7KJLyxD8M7-",
        "outputId": "ca5edaa9-7609-48b0-c26a-3035cd6fd193"
      },
      "source": [
        "plt.plot(history.history[\"loss\"])\n",
        "plt.plot(history.history[\"val_loss\"])\n",
        "plt.xlabel(\"epoch\")\n",
        "plt.ylabel(\"loss\")\n",
        "plt.legend([\"train\",\"val\"])\n",
        "plt.show()"
      ],
      "execution_count": 83,
      "outputs": [
        {
          "output_type": "display_data",
          "data": {
            "image/png": "[encoded data removed]",
            "text/plain": [
              "<Figure size 432x288 with 1 Axes>"
            ]
          },
          "metadata": {
            "needs_background": "light"
          }
        }
      ]
    },
    {
      "cell_type": "code",
      "metadata": {
        "colab": {
          "base_uri": "https://localhost:8080/"
        },
        "id": "2YkPRA1v8V17",
        "outputId": "20173d9d-4936-480e-bb34-d4800b331a3e"
      },
      "source": [
        "model.evaluate(val_scaled, val_target)"
      ],
      "execution_count": 84,
      "outputs": [
        {
          "output_type": "stream",
          "name": "stdout",
          "text": [
            "375/375 [==============================] - 1s 2ms/step - loss: 0.3271 - accuracy: 0.8834\n"
          ]
        },
        {
          "output_type": "execute_result",
          "data": {
            "text/plain": [
              "[0.3270812928676605, 0.8834166526794434]"
            ]
          },
          "metadata": {},
          "execution_count": 84
        }
      ]
    },
    {
      "cell_type": "code",
      "metadata": {
        "id": "hUzRgDp68tIU"
      },
      "source": [
        ""
      ],
      "execution_count": null,
      "outputs": []
    }
  ]
}