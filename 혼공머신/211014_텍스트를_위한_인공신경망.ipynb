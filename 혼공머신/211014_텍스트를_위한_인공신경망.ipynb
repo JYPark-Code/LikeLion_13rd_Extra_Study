{
  "nbformat": 4,
  "nbformat_minor": 0,
  "metadata": {
    "colab": {
      "name": "텍스트를 위한 인공신경망.ipynb",
      "provenance": [],
      "collapsed_sections": [],
      "toc_visible": true
    },
    "kernelspec": {
      "name": "python3",
      "display_name": "Python 3"
    },
    "language_info": {
      "name": "python"
    },
    "accelerator": "GPU"
  },
  "cells": [
    {
      "cell_type": "markdown",
      "metadata": {
        "id": "78Qfq1GvGOVl"
      },
      "source": [
        "# 09-2 순환 신경망으로 IMDB 리뷰 분류하기"
      ]
    },
    {
      "cell_type": "markdown",
      "metadata": {
        "id": "lzTH8dymGfKQ"
      },
      "source": [
        "## 자연어 처리 NLP (Natural Language Processing)\n",
        "* 말뭉치 - corpus"
      ]
    },
    {
      "cell_type": "code",
      "metadata": {
        "colab": {
          "base_uri": "https://localhost:8080/"
        },
        "id": "yuh1zf0wGU0F",
        "outputId": "9c1f7664-d05c-4215-e727-ae51f8251d45"
      },
      "source": [
        "from tensorflow.keras.datasets import imdb\n",
        "(train_input, train_target), (test_input, test_target) = imdb.load_data(num_words=500)"
      ],
      "execution_count": null,
      "outputs": [
        {
          "output_type": "stream",
          "name": "stdout",
          "text": [
            "Downloading data from https://storage.googleapis.com/tensorflow/tf-keras-datasets/imdb.npz\n",
            "17465344/17464789 [==============================] - 0s 0us/step\n",
            "17473536/17464789 [==============================] - 0s 0us/step\n"
          ]
        }
      ]
    },
    {
      "cell_type": "code",
      "metadata": {
        "colab": {
          "base_uri": "https://localhost:8080/"
        },
        "id": "Ooaar_v2HEwQ",
        "outputId": "402ae108-9ade-4ff1-c101-528a70412f29"
      },
      "source": [
        "print(train_input.shape, test_input.shape)"
      ],
      "execution_count": null,
      "outputs": [
        {
          "output_type": "stream",
          "name": "stdout",
          "text": [
            "(25000,) (25000,)\n"
          ]
        }
      ]
    },
    {
      "cell_type": "code",
      "metadata": {
        "colab": {
          "base_uri": "https://localhost:8080/"
        },
        "id": "cXcaOzpHHR9b",
        "outputId": "1abada66-33a8-4bb3-d726-ef4e7a527a7b"
      },
      "source": [
        "print(len(train_input[0]))"
      ],
      "execution_count": null,
      "outputs": [
        {
          "output_type": "stream",
          "name": "stdout",
          "text": [
            "218\n"
          ]
        }
      ]
    },
    {
      "cell_type": "code",
      "metadata": {
        "colab": {
          "base_uri": "https://localhost:8080/"
        },
        "id": "pEtLMlqjHYUM",
        "outputId": "b43d75fd-4fb0-485b-f11a-9c32334c2aea"
      },
      "source": [
        "print(len(train_input[1]))"
      ],
      "execution_count": null,
      "outputs": [
        {
          "output_type": "stream",
          "name": "stdout",
          "text": [
            "189\n"
          ]
        }
      ]
    },
    {
      "cell_type": "code",
      "metadata": {
        "colab": {
          "base_uri": "https://localhost:8080/"
        },
        "id": "bUB7vf2AHe-A",
        "outputId": "a1c4c4ac-10ec-4f95-e63d-da4b0eb6dd74"
      },
      "source": [
        "print(train_input[0])"
      ],
      "execution_count": null,
      "outputs": [
        {
          "output_type": "stream",
          "name": "stdout",
          "text": [
            "[1, 14, 22, 16, 43, 2, 2, 2, 2, 65, 458, 2, 66, 2, 4, 173, 36, 256, 5, 25, 100, 43, 2, 112, 50, 2, 2, 9, 35, 480, 284, 5, 150, 4, 172, 112, 167, 2, 336, 385, 39, 4, 172, 2, 2, 17, 2, 38, 13, 447, 4, 192, 50, 16, 6, 147, 2, 19, 14, 22, 4, 2, 2, 469, 4, 22, 71, 87, 12, 16, 43, 2, 38, 76, 15, 13, 2, 4, 22, 17, 2, 17, 12, 16, 2, 18, 2, 5, 62, 386, 12, 8, 316, 8, 106, 5, 4, 2, 2, 16, 480, 66, 2, 33, 4, 130, 12, 16, 38, 2, 5, 25, 124, 51, 36, 135, 48, 25, 2, 33, 6, 22, 12, 215, 28, 77, 52, 5, 14, 407, 16, 82, 2, 8, 4, 107, 117, 2, 15, 256, 4, 2, 7, 2, 5, 2, 36, 71, 43, 2, 476, 26, 400, 317, 46, 7, 4, 2, 2, 13, 104, 88, 4, 381, 15, 297, 98, 32, 2, 56, 26, 141, 6, 194, 2, 18, 4, 226, 22, 21, 134, 476, 26, 480, 5, 144, 30, 2, 18, 51, 36, 28, 224, 92, 25, 104, 4, 226, 65, 16, 38, 2, 88, 12, 16, 283, 5, 16, 2, 113, 103, 32, 15, 16, 2, 19, 178, 32]\n"
          ]
        }
      ]
    },
    {
      "cell_type": "code",
      "metadata": {
        "colab": {
          "base_uri": "https://localhost:8080/"
        },
        "id": "NH6EDF4IHjKp",
        "outputId": "a688845b-e4ae-4304-9df9-df436bdf6203"
      },
      "source": [
        "print(train_target[:20])"
      ],
      "execution_count": null,
      "outputs": [
        {
          "output_type": "stream",
          "name": "stdout",
          "text": [
            "[1 0 0 1 0 0 1 0 1 0 1 0 0 0 0 0 1 1 0 1]\n"
          ]
        }
      ]
    },
    {
      "cell_type": "code",
      "metadata": {
        "id": "iPXfM8AsHtQ-"
      },
      "source": [
        "from sklearn.model_selection import train_test_split\n",
        "train_input, val_input, train_target, val_target = train_test_split(\n",
        "    train_input, train_target, test_size=0.2, random_state=42\n",
        ")"
      ],
      "execution_count": null,
      "outputs": []
    },
    {
      "cell_type": "code",
      "metadata": {
        "colab": {
          "base_uri": "https://localhost:8080/"
        },
        "id": "N7dL-5CqH-_A",
        "outputId": "58f36bc5-078c-4e8c-ded3-a61466d8dcf7"
      },
      "source": [
        "import numpy as np\n",
        "lengths = np.array([len(x) for x in train_input])\n",
        "\n",
        "print(np.mean(lengths), np.median(lengths))"
      ],
      "execution_count": null,
      "outputs": [
        {
          "output_type": "stream",
          "name": "stdout",
          "text": [
            "239.00925 178.0\n"
          ]
        }
      ]
    },
    {
      "cell_type": "code",
      "metadata": {
        "colab": {
          "base_uri": "https://localhost:8080/",
          "height": 279
        },
        "id": "PXM9iSiEIKYh",
        "outputId": "a913dd47-17bb-4529-d940-879e2fa6d7a2"
      },
      "source": [
        "import matplotlib.pyplot as plt\n",
        "plt.hist(lengths)\n",
        "plt.xlabel(\"length\")\n",
        "plt.ylabel(\"frequency\")\n",
        "plt.show()"
      ],
      "execution_count": null,
      "outputs": [
        {
          "output_type": "display_data",
          "data": {
            "image/png": "[encoded data removed]",
            "text/plain": [
              "<Figure size 432x288 with 1 Axes>"
            ]
          },
          "metadata": {
            "needs_background": "light"
          }
        }
      ]
    },
    {
      "cell_type": "markdown",
      "metadata": {
        "id": "VLSZ3i9KJsxB"
      },
      "source": [
        "### 길이가 300개 미만이어서 100으로 패딩"
      ]
    },
    {
      "cell_type": "code",
      "metadata": {
        "id": "Hhx211jWJVmH"
      },
      "source": [
        "from tensorflow.keras.preprocessing.sequence import pad_sequences\n",
        "train_seq = pad_sequences(train_input, maxlen=100)"
      ],
      "execution_count": null,
      "outputs": []
    },
    {
      "cell_type": "code",
      "metadata": {
        "colab": {
          "base_uri": "https://localhost:8080/"
        },
        "id": "icqh-PaCJnwu",
        "outputId": "84da03d3-6583-4681-c7d4-6f0280896ec9"
      },
      "source": [
        "print(train_seq.shape)"
      ],
      "execution_count": null,
      "outputs": [
        {
          "output_type": "stream",
          "name": "stdout",
          "text": [
            "(20000, 100)\n"
          ]
        }
      ]
    },
    {
      "cell_type": "code",
      "metadata": {
        "colab": {
          "base_uri": "https://localhost:8080/"
        },
        "id": "Zomsx0mWJpVO",
        "outputId": "d9384124-b17d-43f8-a271-2f3f20b5d2e4"
      },
      "source": [
        "print(train_seq[0])"
      ],
      "execution_count": null,
      "outputs": [
        {
          "output_type": "stream",
          "name": "stdout",
          "text": [
            "[ 10   4  20   9   2 364 352   5  45   6   2   2  33 269   8   2 142   2\n",
            "   5   2  17  73  17 204   5   2  19  55   2   2  92  66 104  14  20  93\n",
            "  76   2 151  33   4  58  12 188   2 151  12 215  69 224 142  73 237   6\n",
            "   2   7   2   2 188   2 103  14  31  10  10 451   7   2   5   2  80  91\n",
            "   2  30   2  34  14  20 151  50  26 131  49   2  84  46  50  37  80  79\n",
            "   6   2  46   7  14  20  10  10 470 158]\n"
          ]
        }
      ]
    },
    {
      "cell_type": "code",
      "metadata": {
        "colab": {
          "base_uri": "https://localhost:8080/"
        },
        "id": "wkGKMPiSJ2cB",
        "outputId": "6ebca98a-65ac-4a76-d2b0-76c011cc87f9"
      },
      "source": [
        "print(train_seq[0][-10:])"
      ],
      "execution_count": null,
      "outputs": [
        {
          "output_type": "stream",
          "name": "stdout",
          "text": [
            "[  6   2  46   7  14  20  10  10 470 158]\n"
          ]
        }
      ]
    },
    {
      "cell_type": "code",
      "metadata": {
        "colab": {
          "base_uri": "https://localhost:8080/"
        },
        "id": "WJWuY4jjJ95s",
        "outputId": "67d91327-eb42-4fa3-d031-68897c9dd2b7"
      },
      "source": [
        "print(train_seq[5])"
      ],
      "execution_count": null,
      "outputs": [
        {
          "output_type": "stream",
          "name": "stdout",
          "text": [
            "[  0   0   0   0   1   2 195  19  49   2   2 190   4   2 352   2 183  10\n",
            "  10  13  82  79   4   2  36  71 269   8   2  25  19  49   7   4   2   2\n",
            "   2   2   2  10  10  48  25  40   2  11   2   2  40   2   2   5   4   2\n",
            "   2  95  14 238  56 129   2  10  10  21   2  94 364 352   2   2  11 190\n",
            "  24 484   2   7  94 205 405  10  10  87   2  34  49   2   7   2   2   2\n",
            "   2   2 290   2  46  48  64  18   4   2]\n"
          ]
        }
      ]
    },
    {
      "cell_type": "code",
      "metadata": {
        "id": "oVsc_WHBKTK6"
      },
      "source": [
        "val_seq = pad_sequences(val_input, maxlen=100)"
      ],
      "execution_count": null,
      "outputs": []
    },
    {
      "cell_type": "markdown",
      "metadata": {
        "id": "TneiTuK5LawQ"
      },
      "source": [
        "## 순환 신경망 만들기"
      ]
    },
    {
      "cell_type": "code",
      "metadata": {
        "id": "FO_BT3yTKXZa"
      },
      "source": [
        "from tensorflow import keras\n",
        "model = keras.Sequential()\n",
        "model.add(keras.layers.SimpleRNN(8, input_shape=(100, 500)))\n",
        "model.add(keras.layers.Dense(1, activation=\"sigmoid\"))"
      ],
      "execution_count": null,
      "outputs": []
    },
    {
      "cell_type": "code",
      "metadata": {
        "colab": {
          "base_uri": "https://localhost:8080/"
        },
        "id": "zdXhXeOEKqMj",
        "outputId": "ef923d98-f67a-4884-8531-ec9dbb2c9121"
      },
      "source": [
        "train_oh = keras.utils.to_categorical(train_seq)\n",
        "print(train_oh.shape)"
      ],
      "execution_count": null,
      "outputs": [
        {
          "output_type": "stream",
          "name": "stdout",
          "text": [
            "(20000, 100, 500)\n"
          ]
        }
      ]
    },
    {
      "cell_type": "code",
      "metadata": {
        "colab": {
          "base_uri": "https://localhost:8080/"
        },
        "id": "s7Xri_tzK8eR",
        "outputId": "cdaf1bf3-69de-4733-aa01-715db290b817"
      },
      "source": [
        "print(train_oh[0][0][:12])"
      ],
      "execution_count": null,
      "outputs": [
        {
          "output_type": "stream",
          "name": "stdout",
          "text": [
            "[0. 0. 0. 0. 0. 0. 0. 0. 0. 0. 1. 0.]\n"
          ]
        }
      ]
    },
    {
      "cell_type": "code",
      "metadata": {
        "colab": {
          "base_uri": "https://localhost:8080/"
        },
        "id": "3QbwKYrGLCdL",
        "outputId": "d2799534-66e4-406c-9f29-868bfa18a44c"
      },
      "source": [
        "print(np.sum(train_oh[0][0]))"
      ],
      "execution_count": null,
      "outputs": [
        {
          "output_type": "stream",
          "name": "stdout",
          "text": [
            "1.0\n"
          ]
        }
      ]
    },
    {
      "cell_type": "code",
      "metadata": {
        "id": "sX4grRf6LG9g"
      },
      "source": [
        "val_oh = keras.utils.to_categorical(val_seq)"
      ],
      "execution_count": null,
      "outputs": []
    },
    {
      "cell_type": "code",
      "metadata": {
        "colab": {
          "base_uri": "https://localhost:8080/"
        },
        "id": "hPRpiomKLNvn",
        "outputId": "0377aa88-7595-4a13-84b4-01fb229a1af0"
      },
      "source": [
        "model.summary()"
      ],
      "execution_count": null,
      "outputs": [
        {
          "output_type": "stream",
          "name": "stdout",
          "text": [
            "Model: \"sequential\"\n",
            "_________________________________________________________________\n",
            "Layer (type)                 Output Shape              Param #   \n",
            "=================================================================\n",
            "simple_rnn (SimpleRNN)       (None, 8)                 4072      \n",
            "_________________________________________________________________\n",
            "dense (Dense)                (None, 1)                 9         \n",
            "=================================================================\n",
            "Total params: 4,081\n",
            "Trainable params: 4,081\n",
            "Non-trainable params: 0\n",
            "_________________________________________________________________\n"
          ]
        }
      ]
    },
    {
      "cell_type": "markdown",
      "metadata": {
        "id": "ebz0ifV3LgZE"
      },
      "source": [
        "## 순환 신경망 훈련하기"
      ]
    },
    {
      "cell_type": "code",
      "metadata": {
        "colab": {
          "base_uri": "https://localhost:8080/"
        },
        "id": "BrPTDpOtLSaH",
        "outputId": "a1f01238-fc00-4304-80f8-e856b2caaf2f"
      },
      "source": [
        "rmsprop = keras.optimizers.RMSprop(learning_rate=1e-4)\n",
        "model.compile(optimizer=rmsprop, loss=\"binary_crossentropy\",\n",
        "              metrics=[\"accuracy\"])\n",
        "checkpoint_cb = keras.callbacks.ModelCheckpoint(\"best-simplernn=model.h5\", save_best_only = True)\n",
        "early_stopping_cb = keras.callbacks.EarlyStopping(patience=3, restore_best_weights=True)\n",
        "\n",
        "history = model.fit(train_oh, train_target, epochs=100, batch_size=64, validation_data=(val_oh, val_target),\n",
        "                    callbacks=[checkpoint_cb, early_stopping_cb])"
      ],
      "execution_count": null,
      "outputs": [
        {
          "output_type": "stream",
          "name": "stdout",
          "text": [
            "Epoch 1/100\n",
            "313/313 [==============================] - 46s 137ms/step - loss: 0.6995 - accuracy: 0.5053 - val_loss: 0.7015 - val_accuracy: 0.4914\n",
            "Epoch 2/100\n",
            "313/313 [==============================] - 42s 135ms/step - loss: 0.6956 - accuracy: 0.5120 - val_loss: 0.6989 - val_accuracy: 0.4990\n",
            "Epoch 3/100\n",
            "313/313 [==============================] - 42s 135ms/step - loss: 0.6928 - accuracy: 0.5196 - val_loss: 0.6970 - val_accuracy: 0.5018\n",
            "Epoch 4/100\n",
            "313/313 [==============================] - 41s 132ms/step - loss: 0.6906 - accuracy: 0.5290 - val_loss: 0.6956 - val_accuracy: 0.5080\n",
            "Epoch 5/100\n",
            "313/313 [==============================] - 40s 128ms/step - loss: 0.6886 - accuracy: 0.5360 - val_loss: 0.6944 - val_accuracy: 0.5128\n",
            "Epoch 6/100\n",
            "313/313 [==============================] - 41s 131ms/step - loss: 0.6868 - accuracy: 0.5428 - val_loss: 0.6935 - val_accuracy: 0.5138\n",
            "Epoch 7/100\n",
            "313/313 [==============================] - 41s 130ms/step - loss: 0.6850 - accuracy: 0.5521 - val_loss: 0.6926 - val_accuracy: 0.5192\n",
            "Epoch 8/100\n",
            "313/313 [==============================] - 40s 128ms/step - loss: 0.6833 - accuracy: 0.5585 - val_loss: 0.6919 - val_accuracy: 0.5216\n",
            "Epoch 9/100\n",
            "313/313 [==============================] - 40s 129ms/step - loss: 0.6815 - accuracy: 0.5637 - val_loss: 0.6914 - val_accuracy: 0.5226\n",
            "Epoch 10/100\n",
            "313/313 [==============================] - 41s 130ms/step - loss: 0.6797 - accuracy: 0.5691 - val_loss: 0.6910 - val_accuracy: 0.5242\n",
            "Epoch 11/100\n",
            "313/313 [==============================] - 41s 130ms/step - loss: 0.6779 - accuracy: 0.5724 - val_loss: 0.6906 - val_accuracy: 0.5294\n",
            "Epoch 12/100\n",
            "313/313 [==============================] - 40s 128ms/step - loss: 0.6761 - accuracy: 0.5778 - val_loss: 0.6904 - val_accuracy: 0.5324\n",
            "Epoch 13/100\n",
            "313/313 [==============================] - 40s 128ms/step - loss: 0.6742 - accuracy: 0.5829 - val_loss: 0.6902 - val_accuracy: 0.5330\n",
            "Epoch 14/100\n",
            "313/313 [==============================] - 41s 130ms/step - loss: 0.6723 - accuracy: 0.5893 - val_loss: 0.6900 - val_accuracy: 0.5334\n",
            "Epoch 15/100\n",
            "313/313 [==============================] - 40s 128ms/step - loss: 0.6704 - accuracy: 0.5932 - val_loss: 0.6897 - val_accuracy: 0.5348\n",
            "Epoch 16/100\n",
            "313/313 [==============================] - 40s 129ms/step - loss: 0.6685 - accuracy: 0.5967 - val_loss: 0.6896 - val_accuracy: 0.5342\n",
            "Epoch 17/100\n",
            "313/313 [==============================] - 40s 128ms/step - loss: 0.6666 - accuracy: 0.6005 - val_loss: 0.6893 - val_accuracy: 0.5368\n",
            "Epoch 18/100\n",
            "313/313 [==============================] - 40s 127ms/step - loss: 0.6646 - accuracy: 0.6067 - val_loss: 0.6893 - val_accuracy: 0.5386\n",
            "Epoch 19/100\n",
            "313/313 [==============================] - 40s 129ms/step - loss: 0.6626 - accuracy: 0.6093 - val_loss: 0.6892 - val_accuracy: 0.5368\n",
            "Epoch 20/100\n",
            "313/313 [==============================] - 40s 127ms/step - loss: 0.6605 - accuracy: 0.6132 - val_loss: 0.6890 - val_accuracy: 0.5412\n",
            "Epoch 21/100\n",
            "313/313 [==============================] - 41s 130ms/step - loss: 0.6585 - accuracy: 0.6151 - val_loss: 0.6891 - val_accuracy: 0.5418\n",
            "Epoch 22/100\n",
            "313/313 [==============================] - 40s 129ms/step - loss: 0.6564 - accuracy: 0.6189 - val_loss: 0.6890 - val_accuracy: 0.5460\n",
            "Epoch 23/100\n",
            "313/313 [==============================] - 40s 129ms/step - loss: 0.6541 - accuracy: 0.6216 - val_loss: 0.6890 - val_accuracy: 0.5466\n",
            "Epoch 24/100\n",
            "313/313 [==============================] - 40s 129ms/step - loss: 0.6521 - accuracy: 0.6223 - val_loss: 0.6891 - val_accuracy: 0.5478\n",
            "Epoch 25/100\n",
            "313/313 [==============================] - 40s 129ms/step - loss: 0.6499 - accuracy: 0.6253 - val_loss: 0.6889 - val_accuracy: 0.5490\n",
            "Epoch 26/100\n",
            "313/313 [==============================] - 40s 129ms/step - loss: 0.6477 - accuracy: 0.6285 - val_loss: 0.6888 - val_accuracy: 0.5496\n",
            "Epoch 27/100\n",
            "313/313 [==============================] - 41s 130ms/step - loss: 0.6454 - accuracy: 0.6320 - val_loss: 0.6885 - val_accuracy: 0.5526\n",
            "Epoch 28/100\n",
            "313/313 [==============================] - 40s 128ms/step - loss: 0.6432 - accuracy: 0.6348 - val_loss: 0.6884 - val_accuracy: 0.5522\n",
            "Epoch 29/100\n",
            "313/313 [==============================] - 40s 128ms/step - loss: 0.6409 - accuracy: 0.6380 - val_loss: 0.6883 - val_accuracy: 0.5530\n",
            "Epoch 30/100\n",
            "313/313 [==============================] - 40s 128ms/step - loss: 0.6386 - accuracy: 0.6399 - val_loss: 0.6884 - val_accuracy: 0.5542\n",
            "Epoch 31/100\n",
            "313/313 [==============================] - 41s 130ms/step - loss: 0.6364 - accuracy: 0.6421 - val_loss: 0.6883 - val_accuracy: 0.5590\n",
            "Epoch 32/100\n",
            "313/313 [==============================] - 41s 130ms/step - loss: 0.6340 - accuracy: 0.6464 - val_loss: 0.6881 - val_accuracy: 0.5574\n",
            "Epoch 33/100\n",
            "313/313 [==============================] - 41s 130ms/step - loss: 0.6318 - accuracy: 0.6500 - val_loss: 0.6880 - val_accuracy: 0.5618\n",
            "Epoch 34/100\n",
            "313/313 [==============================] - 41s 131ms/step - loss: 0.6294 - accuracy: 0.6514 - val_loss: 0.6880 - val_accuracy: 0.5592\n",
            "Epoch 35/100\n",
            "313/313 [==============================] - 41s 130ms/step - loss: 0.6271 - accuracy: 0.6544 - val_loss: 0.6878 - val_accuracy: 0.5624\n",
            "Epoch 36/100\n",
            "313/313 [==============================] - 41s 131ms/step - loss: 0.6247 - accuracy: 0.6561 - val_loss: 0.6875 - val_accuracy: 0.5618\n",
            "Epoch 37/100\n",
            "313/313 [==============================] - 41s 131ms/step - loss: 0.6223 - accuracy: 0.6600 - val_loss: 0.6875 - val_accuracy: 0.5650\n",
            "Epoch 38/100\n",
            "313/313 [==============================] - 41s 130ms/step - loss: 0.6199 - accuracy: 0.6604 - val_loss: 0.6873 - val_accuracy: 0.5640\n",
            "Epoch 39/100\n",
            "313/313 [==============================] - 40s 128ms/step - loss: 0.6175 - accuracy: 0.6618 - val_loss: 0.6872 - val_accuracy: 0.5676\n",
            "Epoch 40/100\n",
            "313/313 [==============================] - 40s 129ms/step - loss: 0.6149 - accuracy: 0.6666 - val_loss: 0.6874 - val_accuracy: 0.5670\n",
            "Epoch 41/100\n",
            "313/313 [==============================] - 40s 127ms/step - loss: 0.6127 - accuracy: 0.6687 - val_loss: 0.6869 - val_accuracy: 0.5676\n",
            "Epoch 42/100\n",
            "313/313 [==============================] - 40s 129ms/step - loss: 0.6102 - accuracy: 0.6698 - val_loss: 0.6868 - val_accuracy: 0.5682\n",
            "Epoch 43/100\n",
            "313/313 [==============================] - 40s 128ms/step - loss: 0.6076 - accuracy: 0.6712 - val_loss: 0.6866 - val_accuracy: 0.5694\n",
            "Epoch 44/100\n",
            "313/313 [==============================] - 39s 125ms/step - loss: 0.6050 - accuracy: 0.6743 - val_loss: 0.6863 - val_accuracy: 0.5722\n",
            "Epoch 45/100\n",
            "313/313 [==============================] - 40s 127ms/step - loss: 0.6025 - accuracy: 0.6759 - val_loss: 0.6861 - val_accuracy: 0.5748\n",
            "Epoch 46/100\n",
            "313/313 [==============================] - 40s 129ms/step - loss: 0.5998 - accuracy: 0.6805 - val_loss: 0.6856 - val_accuracy: 0.5704\n",
            "Epoch 47/100\n",
            "313/313 [==============================] - 40s 127ms/step - loss: 0.5973 - accuracy: 0.6827 - val_loss: 0.6852 - val_accuracy: 0.5758\n",
            "Epoch 48/100\n",
            "313/313 [==============================] - 40s 127ms/step - loss: 0.5949 - accuracy: 0.6863 - val_loss: 0.6845 - val_accuracy: 0.5762\n",
            "Epoch 49/100\n",
            "313/313 [==============================] - 40s 127ms/step - loss: 0.5923 - accuracy: 0.6889 - val_loss: 0.6845 - val_accuracy: 0.5766\n",
            "Epoch 50/100\n",
            "313/313 [==============================] - 39s 126ms/step - loss: 0.5897 - accuracy: 0.6896 - val_loss: 0.6837 - val_accuracy: 0.5774\n",
            "Epoch 51/100\n",
            "313/313 [==============================] - 40s 127ms/step - loss: 0.5870 - accuracy: 0.6942 - val_loss: 0.6830 - val_accuracy: 0.5842\n",
            "Epoch 52/100\n",
            "313/313 [==============================] - 40s 128ms/step - loss: 0.5843 - accuracy: 0.6959 - val_loss: 0.6820 - val_accuracy: 0.5820\n",
            "Epoch 53/100\n",
            "313/313 [==============================] - 40s 127ms/step - loss: 0.5818 - accuracy: 0.6967 - val_loss: 0.6815 - val_accuracy: 0.5856\n",
            "Epoch 54/100\n",
            "313/313 [==============================] - 39s 126ms/step - loss: 0.5790 - accuracy: 0.7005 - val_loss: 0.6803 - val_accuracy: 0.5888\n",
            "Epoch 55/100\n",
            "313/313 [==============================] - 40s 127ms/step - loss: 0.5762 - accuracy: 0.7038 - val_loss: 0.6793 - val_accuracy: 0.5912\n",
            "Epoch 56/100\n",
            "313/313 [==============================] - 40s 128ms/step - loss: 0.5734 - accuracy: 0.7056 - val_loss: 0.6778 - val_accuracy: 0.5972\n",
            "Epoch 57/100\n",
            "313/313 [==============================] - 39s 125ms/step - loss: 0.5707 - accuracy: 0.7106 - val_loss: 0.6761 - val_accuracy: 0.6004\n",
            "Epoch 58/100\n",
            "313/313 [==============================] - 39s 126ms/step - loss: 0.5678 - accuracy: 0.7110 - val_loss: 0.6760 - val_accuracy: 0.5964\n",
            "Epoch 59/100\n",
            "313/313 [==============================] - 40s 127ms/step - loss: 0.5646 - accuracy: 0.7153 - val_loss: 0.6747 - val_accuracy: 0.5986\n",
            "Epoch 60/100\n",
            "313/313 [==============================] - 39s 126ms/step - loss: 0.5620 - accuracy: 0.7172 - val_loss: 0.6738 - val_accuracy: 0.6054\n",
            "Epoch 61/100\n",
            "313/313 [==============================] - 40s 126ms/step - loss: 0.5587 - accuracy: 0.7194 - val_loss: 0.6704 - val_accuracy: 0.6090\n",
            "Epoch 62/100\n",
            "313/313 [==============================] - 39s 125ms/step - loss: 0.5558 - accuracy: 0.7213 - val_loss: 0.6685 - val_accuracy: 0.6136\n",
            "Epoch 63/100\n",
            "313/313 [==============================] - 40s 127ms/step - loss: 0.5528 - accuracy: 0.7255 - val_loss: 0.6661 - val_accuracy: 0.6158\n",
            "Epoch 64/100\n",
            "313/313 [==============================] - 39s 125ms/step - loss: 0.5495 - accuracy: 0.7268 - val_loss: 0.6649 - val_accuracy: 0.6204\n",
            "Epoch 65/100\n",
            "313/313 [==============================] - 38s 123ms/step - loss: 0.5462 - accuracy: 0.7306 - val_loss: 0.6607 - val_accuracy: 0.6234\n",
            "Epoch 66/100\n",
            "313/313 [==============================] - 39s 125ms/step - loss: 0.5428 - accuracy: 0.7337 - val_loss: 0.6596 - val_accuracy: 0.6226\n",
            "Epoch 67/100\n",
            "313/313 [==============================] - 39s 124ms/step - loss: 0.5390 - accuracy: 0.7355 - val_loss: 0.6550 - val_accuracy: 0.6260\n",
            "Epoch 68/100\n",
            "313/313 [==============================] - 39s 124ms/step - loss: 0.5357 - accuracy: 0.7388 - val_loss: 0.6527 - val_accuracy: 0.6286\n",
            "Epoch 69/100\n",
            "313/313 [==============================] - 39s 123ms/step - loss: 0.5314 - accuracy: 0.7418 - val_loss: 0.6490 - val_accuracy: 0.6354\n",
            "Epoch 70/100\n",
            "313/313 [==============================] - 39s 124ms/step - loss: 0.5274 - accuracy: 0.7454 - val_loss: 0.6446 - val_accuracy: 0.6376\n",
            "Epoch 71/100\n",
            "313/313 [==============================] - 39s 123ms/step - loss: 0.5230 - accuracy: 0.7469 - val_loss: 0.6392 - val_accuracy: 0.6426\n",
            "Epoch 72/100\n",
            "313/313 [==============================] - 39s 125ms/step - loss: 0.5186 - accuracy: 0.7513 - val_loss: 0.6357 - val_accuracy: 0.6466\n",
            "Epoch 73/100\n",
            "313/313 [==============================] - 39s 124ms/step - loss: 0.5135 - accuracy: 0.7559 - val_loss: 0.6300 - val_accuracy: 0.6516\n",
            "Epoch 74/100\n",
            "313/313 [==============================] - 39s 124ms/step - loss: 0.5086 - accuracy: 0.7594 - val_loss: 0.6235 - val_accuracy: 0.6556\n",
            "Epoch 75/100\n",
            "313/313 [==============================] - 39s 124ms/step - loss: 0.5028 - accuracy: 0.7621 - val_loss: 0.6205 - val_accuracy: 0.6622\n",
            "Epoch 76/100\n",
            "313/313 [==============================] - 39s 123ms/step - loss: 0.4976 - accuracy: 0.7667 - val_loss: 0.6117 - val_accuracy: 0.6708\n",
            "Epoch 77/100\n",
            "313/313 [==============================] - 39s 123ms/step - loss: 0.4917 - accuracy: 0.7710 - val_loss: 0.6081 - val_accuracy: 0.6734\n",
            "Epoch 78/100\n",
            "313/313 [==============================] - 39s 123ms/step - loss: 0.4859 - accuracy: 0.7763 - val_loss: 0.6007 - val_accuracy: 0.6824\n",
            "Epoch 79/100\n",
            "313/313 [==============================] - 38s 123ms/step - loss: 0.4797 - accuracy: 0.7811 - val_loss: 0.5935 - val_accuracy: 0.6882\n",
            "Epoch 80/100\n",
            "313/313 [==============================] - 39s 125ms/step - loss: 0.4735 - accuracy: 0.7860 - val_loss: 0.5863 - val_accuracy: 0.6920\n",
            "Epoch 81/100\n",
            "313/313 [==============================] - 39s 124ms/step - loss: 0.4678 - accuracy: 0.7891 - val_loss: 0.5797 - val_accuracy: 0.6974\n",
            "Epoch 82/100\n",
            "313/313 [==============================] - 39s 126ms/step - loss: 0.4621 - accuracy: 0.7915 - val_loss: 0.5757 - val_accuracy: 0.7016\n",
            "Epoch 83/100\n",
            "313/313 [==============================] - 39s 126ms/step - loss: 0.4571 - accuracy: 0.7937 - val_loss: 0.5681 - val_accuracy: 0.7056\n",
            "Epoch 84/100\n",
            "313/313 [==============================] - 39s 125ms/step - loss: 0.4517 - accuracy: 0.7963 - val_loss: 0.5669 - val_accuracy: 0.7064\n",
            "Epoch 85/100\n",
            "313/313 [==============================] - 39s 126ms/step - loss: 0.4475 - accuracy: 0.7987 - val_loss: 0.5590 - val_accuracy: 0.7152\n",
            "Epoch 86/100\n",
            "313/313 [==============================] - 40s 129ms/step - loss: 0.4433 - accuracy: 0.8002 - val_loss: 0.5580 - val_accuracy: 0.7136\n",
            "Epoch 87/100\n",
            "313/313 [==============================] - 40s 129ms/step - loss: 0.4394 - accuracy: 0.8034 - val_loss: 0.5520 - val_accuracy: 0.7206\n",
            "Epoch 88/100\n",
            "313/313 [==============================] - 41s 130ms/step - loss: 0.4352 - accuracy: 0.8048 - val_loss: 0.5589 - val_accuracy: 0.7204\n",
            "Epoch 89/100\n",
            "313/313 [==============================] - 40s 129ms/step - loss: 0.4319 - accuracy: 0.8062 - val_loss: 0.5465 - val_accuracy: 0.7234\n",
            "Epoch 90/100\n",
            "313/313 [==============================] - 40s 127ms/step - loss: 0.4284 - accuracy: 0.8099 - val_loss: 0.5451 - val_accuracy: 0.7282\n",
            "Epoch 91/100\n",
            "313/313 [==============================] - 40s 128ms/step - loss: 0.4248 - accuracy: 0.8111 - val_loss: 0.5450 - val_accuracy: 0.7274\n",
            "Epoch 92/100\n",
            "313/313 [==============================] - 40s 128ms/step - loss: 0.4216 - accuracy: 0.8123 - val_loss: 0.5394 - val_accuracy: 0.7362\n",
            "Epoch 93/100\n",
            "313/313 [==============================] - 40s 129ms/step - loss: 0.4186 - accuracy: 0.8145 - val_loss: 0.5445 - val_accuracy: 0.7292\n",
            "Epoch 94/100\n",
            "313/313 [==============================] - 40s 129ms/step - loss: 0.4159 - accuracy: 0.8176 - val_loss: 0.5422 - val_accuracy: 0.7332\n",
            "Epoch 95/100\n",
            "313/313 [==============================] - 40s 128ms/step - loss: 0.4133 - accuracy: 0.8177 - val_loss: 0.5357 - val_accuracy: 0.7344\n",
            "Epoch 96/100\n",
            "313/313 [==============================] - 40s 128ms/step - loss: 0.4106 - accuracy: 0.8198 - val_loss: 0.5337 - val_accuracy: 0.7372\n",
            "Epoch 97/100\n",
            "313/313 [==============================] - 40s 128ms/step - loss: 0.4081 - accuracy: 0.8210 - val_loss: 0.5343 - val_accuracy: 0.7398\n",
            "Epoch 98/100\n",
            "313/313 [==============================] - 40s 128ms/step - loss: 0.4052 - accuracy: 0.8230 - val_loss: 0.5315 - val_accuracy: 0.7428\n",
            "Epoch 99/100\n",
            "313/313 [==============================] - 40s 129ms/step - loss: 0.4031 - accuracy: 0.8247 - val_loss: 0.5344 - val_accuracy: 0.7416\n",
            "Epoch 100/100\n",
            "313/313 [==============================] - 40s 128ms/step - loss: 0.4006 - accuracy: 0.8260 - val_loss: 0.5335 - val_accuracy: 0.7418\n"
          ]
        }
      ]
    },
    {
      "cell_type": "markdown",
      "metadata": {
        "id": "di6z0PJMUNDU"
      },
      "source": [
        "## 훈련 손실 검증 손실"
      ]
    },
    {
      "cell_type": "code",
      "metadata": {
        "colab": {
          "base_uri": "https://localhost:8080/",
          "height": 279
        },
        "id": "Pz_JGU3PLwtr",
        "outputId": "e19a53f0-ab19-4278-b0c6-15d4f7d1d5a0"
      },
      "source": [
        "plt.plot(history.history[\"loss\"])\n",
        "plt.plot(history.history[\"val_loss\"])\n",
        "plt.xlabel(\"epoch\")\n",
        "plt.ylabel(\"loss\")\n",
        "plt.legend([\"train\", \"val\"])\n",
        "plt.show() "
      ],
      "execution_count": null,
      "outputs": [
        {
          "output_type": "display_data",
          "data": {
            "image/png": "[encoded data removed]",
            "text/plain": [
              "<Figure size 432x288 with 1 Axes>"
            ]
          },
          "metadata": {
            "needs_background": "light"
          }
        }
      ]
    },
    {
      "cell_type": "code",
      "metadata": {
        "colab": {
          "base_uri": "https://localhost:8080/"
        },
        "id": "bnO5To6YUfOp",
        "outputId": "d8aa9bec-33d3-4c86-d064-7bede012d4fa"
      },
      "source": [
        "print(train_seq.nbytes, train_oh.nbytes)"
      ],
      "execution_count": null,
      "outputs": [
        {
          "output_type": "stream",
          "name": "stdout",
          "text": [
            "8000000 4000000000\n"
          ]
        }
      ]
    },
    {
      "cell_type": "markdown",
      "metadata": {
        "id": "WUB7bo6RU0ZH"
      },
      "source": [
        "## 단어 임베딩을 사용하기"
      ]
    },
    {
      "cell_type": "code",
      "metadata": {
        "id": "3CoFwRj7Ux6Q"
      },
      "source": [
        "model2 = keras.Sequential()\n",
        "model2.add(keras.layers.Embedding(500, 16, input_length=100))\n",
        "model2.add(keras.layers.SimpleRNN(8))\n",
        "model2.add(keras.layers.Dense(1, activation=\"sigmoid\"))"
      ],
      "execution_count": null,
      "outputs": []
    },
    {
      "cell_type": "code",
      "metadata": {
        "colab": {
          "base_uri": "https://localhost:8080/"
        },
        "id": "3xbWPPH4VjSZ",
        "outputId": "ceb9d08b-f522-4593-c4ee-dbd2bbbe1625"
      },
      "source": [
        "model2.summary()"
      ],
      "execution_count": null,
      "outputs": [
        {
          "output_type": "stream",
          "name": "stdout",
          "text": [
            "Model: \"sequential_1\"\n",
            "_________________________________________________________________\n",
            "Layer (type)                 Output Shape              Param #   \n",
            "=================================================================\n",
            "embedding (Embedding)        (None, 100, 16)           8000      \n",
            "_________________________________________________________________\n",
            "simple_rnn_1 (SimpleRNN)     (None, 8)                 200       \n",
            "_________________________________________________________________\n",
            "dense_1 (Dense)              (None, 1)                 9         \n",
            "=================================================================\n",
            "Total params: 8,209\n",
            "Trainable params: 8,209\n",
            "Non-trainable params: 0\n",
            "_________________________________________________________________\n"
          ]
        }
      ]
    },
    {
      "cell_type": "code",
      "metadata": {
        "id": "mj590dpHVnBp"
      },
      "source": [
        "rmsprop = keras.optimizers.RMSprop(learning_rate=1e-4)\n",
        "model2.compile(optimizer=rmsprop, loss=\"binary_crossentropy\", metrics=[\"accuracy\"])\n",
        "checkpoint_cb = keras.callbacks.ModelCheckpoint(\"best-embedding-model.h5\", save_best_only=True)"
      ],
      "execution_count": null,
      "outputs": []
    },
    {
      "cell_type": "code",
      "metadata": {
        "colab": {
          "base_uri": "https://localhost:8080/"
        },
        "id": "5UskGXZ7V_6s",
        "outputId": "08edcae2-3064-406a-8897-d57e4230b57f"
      },
      "source": [
        "early_stopping_cb = keras.callbacks.EarlyStopping(patience=3, restore_best_weights=True)\n",
        "\n",
        "history = model2.fit(train_seq, train_target, epochs=100, batch_size=64, validation_data=(val_seq, val_target),\n",
        "                    callbacks=[checkpoint_cb, early_stopping_cb])"
      ],
      "execution_count": null,
      "outputs": [
        {
          "output_type": "stream",
          "name": "stdout",
          "text": [
            "Epoch 1/100\n",
            "313/313 [==============================] - 54s 168ms/step - loss: 0.6944 - accuracy: 0.5066 - val_loss: 0.6923 - val_accuracy: 0.5216\n",
            "Epoch 2/100\n",
            "313/313 [==============================] - 53s 170ms/step - loss: 0.6881 - accuracy: 0.5439 - val_loss: 0.6871 - val_accuracy: 0.5514\n",
            "Epoch 3/100\n",
            "313/313 [==============================] - 52s 168ms/step - loss: 0.6700 - accuracy: 0.6132 - val_loss: 0.6447 - val_accuracy: 0.6754\n",
            "Epoch 4/100\n",
            "313/313 [==============================] - 52s 168ms/step - loss: 0.6238 - accuracy: 0.6988 - val_loss: 0.6109 - val_accuracy: 0.7140\n",
            "Epoch 5/100\n",
            "313/313 [==============================] - 53s 170ms/step - loss: 0.5946 - accuracy: 0.7268 - val_loss: 0.5902 - val_accuracy: 0.7262\n",
            "Epoch 6/100\n",
            "313/313 [==============================] - 53s 170ms/step - loss: 0.5714 - accuracy: 0.7427 - val_loss: 0.5698 - val_accuracy: 0.7414\n",
            "Epoch 7/100\n",
            "313/313 [==============================] - 52s 168ms/step - loss: 0.5519 - accuracy: 0.7552 - val_loss: 0.5646 - val_accuracy: 0.7288\n",
            "Epoch 8/100\n",
            "313/313 [==============================] - 53s 170ms/step - loss: 0.5374 - accuracy: 0.7599 - val_loss: 0.5493 - val_accuracy: 0.7474\n",
            "Epoch 9/100\n",
            "313/313 [==============================] - 54s 171ms/step - loss: 0.5242 - accuracy: 0.7665 - val_loss: 0.5338 - val_accuracy: 0.7506\n",
            "Epoch 10/100\n",
            "313/313 [==============================] - 53s 169ms/step - loss: 0.5143 - accuracy: 0.7707 - val_loss: 0.5276 - val_accuracy: 0.7506\n",
            "Epoch 11/100\n",
            "313/313 [==============================] - 53s 169ms/step - loss: 0.5048 - accuracy: 0.7748 - val_loss: 0.5180 - val_accuracy: 0.7576\n",
            "Epoch 12/100\n",
            "313/313 [==============================] - 54s 171ms/step - loss: 0.5003 - accuracy: 0.7747 - val_loss: 0.5117 - val_accuracy: 0.7616\n",
            "Epoch 13/100\n",
            "313/313 [==============================] - 54s 171ms/step - loss: 0.4890 - accuracy: 0.7823 - val_loss: 0.5004 - val_accuracy: 0.7718\n",
            "Epoch 14/100\n",
            "313/313 [==============================] - 53s 169ms/step - loss: 0.4841 - accuracy: 0.7846 - val_loss: 0.4974 - val_accuracy: 0.7720\n",
            "Epoch 15/100\n",
            "313/313 [==============================] - 53s 169ms/step - loss: 0.4808 - accuracy: 0.7853 - val_loss: 0.5168 - val_accuracy: 0.7518\n",
            "Epoch 16/100\n",
            "313/313 [==============================] - 53s 169ms/step - loss: 0.4788 - accuracy: 0.7859 - val_loss: 0.5180 - val_accuracy: 0.7510\n",
            "Epoch 17/100\n",
            "313/313 [==============================] - 53s 170ms/step - loss: 0.4709 - accuracy: 0.7898 - val_loss: 0.4964 - val_accuracy: 0.7674\n",
            "Epoch 18/100\n",
            "313/313 [==============================] - 53s 168ms/step - loss: 0.4663 - accuracy: 0.7934 - val_loss: 0.4909 - val_accuracy: 0.7702\n",
            "Epoch 19/100\n",
            "313/313 [==============================] - 53s 169ms/step - loss: 0.4610 - accuracy: 0.7973 - val_loss: 0.4905 - val_accuracy: 0.7720\n",
            "Epoch 20/100\n",
            "313/313 [==============================] - 53s 169ms/step - loss: 0.4565 - accuracy: 0.8005 - val_loss: 0.4889 - val_accuracy: 0.7736\n",
            "Epoch 21/100\n",
            "313/313 [==============================] - 52s 168ms/step - loss: 0.4543 - accuracy: 0.8008 - val_loss: 0.4900 - val_accuracy: 0.7724\n",
            "Epoch 22/100\n",
            "313/313 [==============================] - 53s 171ms/step - loss: 0.4505 - accuracy: 0.8035 - val_loss: 0.4874 - val_accuracy: 0.7732\n",
            "Epoch 23/100\n",
            "313/313 [==============================] - 53s 169ms/step - loss: 0.4464 - accuracy: 0.8052 - val_loss: 0.4847 - val_accuracy: 0.7722\n",
            "Epoch 24/100\n",
            "313/313 [==============================] - 53s 171ms/step - loss: 0.4436 - accuracy: 0.8075 - val_loss: 0.4841 - val_accuracy: 0.7756\n",
            "Epoch 25/100\n",
            "313/313 [==============================] - 54s 172ms/step - loss: 0.4402 - accuracy: 0.8097 - val_loss: 0.4821 - val_accuracy: 0.7754\n",
            "Epoch 26/100\n",
            "313/313 [==============================] - 54s 172ms/step - loss: 0.4378 - accuracy: 0.8105 - val_loss: 0.4799 - val_accuracy: 0.7784\n",
            "Epoch 27/100\n",
            "313/313 [==============================] - 53s 168ms/step - loss: 0.4338 - accuracy: 0.8137 - val_loss: 0.4783 - val_accuracy: 0.7780\n",
            "Epoch 28/100\n",
            "313/313 [==============================] - 53s 169ms/step - loss: 0.4305 - accuracy: 0.8144 - val_loss: 0.4767 - val_accuracy: 0.7788\n",
            "Epoch 29/100\n",
            "313/313 [==============================] - 53s 168ms/step - loss: 0.4288 - accuracy: 0.8164 - val_loss: 0.4764 - val_accuracy: 0.7792\n",
            "Epoch 30/100\n",
            "313/313 [==============================] - 52s 168ms/step - loss: 0.4257 - accuracy: 0.8170 - val_loss: 0.4758 - val_accuracy: 0.7766\n",
            "Epoch 31/100\n",
            "313/313 [==============================] - 53s 169ms/step - loss: 0.4234 - accuracy: 0.8184 - val_loss: 0.4742 - val_accuracy: 0.7802\n",
            "Epoch 32/100\n",
            "313/313 [==============================] - 54s 172ms/step - loss: 0.4210 - accuracy: 0.8184 - val_loss: 0.4776 - val_accuracy: 0.7776\n",
            "Epoch 33/100\n",
            "313/313 [==============================] - 54s 171ms/step - loss: 0.4189 - accuracy: 0.8210 - val_loss: 0.4714 - val_accuracy: 0.7782\n",
            "Epoch 34/100\n",
            "313/313 [==============================] - 54s 171ms/step - loss: 0.4169 - accuracy: 0.8227 - val_loss: 0.4703 - val_accuracy: 0.7840\n",
            "Epoch 35/100\n",
            "313/313 [==============================] - 54s 173ms/step - loss: 0.4144 - accuracy: 0.8233 - val_loss: 0.4723 - val_accuracy: 0.7806\n",
            "Epoch 36/100\n",
            "313/313 [==============================] - 54s 172ms/step - loss: 0.4116 - accuracy: 0.8261 - val_loss: 0.4685 - val_accuracy: 0.7860\n",
            "Epoch 37/100\n",
            "313/313 [==============================] - 54s 172ms/step - loss: 0.4099 - accuracy: 0.8261 - val_loss: 0.4713 - val_accuracy: 0.7810\n",
            "Epoch 38/100\n",
            "313/313 [==============================] - 54s 172ms/step - loss: 0.4089 - accuracy: 0.8262 - val_loss: 0.4703 - val_accuracy: 0.7822\n",
            "Epoch 39/100\n",
            "313/313 [==============================] - 54s 172ms/step - loss: 0.4063 - accuracy: 0.8271 - val_loss: 0.4661 - val_accuracy: 0.7890\n",
            "Epoch 40/100\n",
            "313/313 [==============================] - 53s 171ms/step - loss: 0.4049 - accuracy: 0.8291 - val_loss: 0.4688 - val_accuracy: 0.7862\n",
            "Epoch 41/100\n",
            "313/313 [==============================] - 53s 170ms/step - loss: 0.4038 - accuracy: 0.8278 - val_loss: 0.4658 - val_accuracy: 0.7862\n",
            "Epoch 42/100\n",
            "313/313 [==============================] - 54s 173ms/step - loss: 0.4011 - accuracy: 0.8308 - val_loss: 0.4678 - val_accuracy: 0.7872\n",
            "Epoch 43/100\n",
            "313/313 [==============================] - 53s 170ms/step - loss: 0.3994 - accuracy: 0.8303 - val_loss: 0.4661 - val_accuracy: 0.7854\n",
            "Epoch 44/100\n",
            "313/313 [==============================] - 53s 170ms/step - loss: 0.3981 - accuracy: 0.8328 - val_loss: 0.4646 - val_accuracy: 0.7888\n",
            "Epoch 45/100\n",
            "313/313 [==============================] - 53s 170ms/step - loss: 0.3963 - accuracy: 0.8332 - val_loss: 0.4650 - val_accuracy: 0.7868\n",
            "Epoch 46/100\n",
            "313/313 [==============================] - 54s 171ms/step - loss: 0.3953 - accuracy: 0.8325 - val_loss: 0.4761 - val_accuracy: 0.7820\n",
            "Epoch 47/100\n",
            "313/313 [==============================] - 53s 168ms/step - loss: 0.3935 - accuracy: 0.8347 - val_loss: 0.4652 - val_accuracy: 0.7862\n"
          ]
        }
      ]
    },
    {
      "cell_type": "code",
      "metadata": {
        "colab": {
          "base_uri": "https://localhost:8080/",
          "height": 279
        },
        "id": "ojKJbMbKWSO0",
        "outputId": "bd70c83f-ea57-46c3-88c8-17690a35a178"
      },
      "source": [
        "plt.plot(history.history[\"loss\"])\n",
        "plt.plot(history.history[\"val_loss\"])\n",
        "plt.xlabel(\"epoch\")\n",
        "plt.ylabel(\"loss\")\n",
        "plt.legend([\"train\", \"val\"])\n",
        "plt.show()"
      ],
      "execution_count": null,
      "outputs": [
        {
          "output_type": "display_data",
          "data": {
            "image/png": "[encoded data removed]",
            "text/plain": [
              "<Figure size 432x288 with 1 Axes>"
            ]
          },
          "metadata": {
            "needs_background": "light"
          }
        }
      ]
    },
    {
      "cell_type": "markdown",
      "metadata": {
        "id": "Ypp5dWMvaUUq"
      },
      "source": [
        "# 09-3 LSTM 과 GRU 셀\n",
        "  * 계산은 SimpleRNN보다 복잡하지만, 성능이 좋아서 순환 신경망에서 많이 채택되고 있다."
      ]
    },
    {
      "cell_type": "markdown",
      "metadata": {
        "id": "1swWG26vavf6"
      },
      "source": [
        "## LSTM 구조\n",
        "* Long Short-Term Memory"
      ]
    },
    {
      "cell_type": "markdown",
      "metadata": {
        "id": "LUKowbJ-bFDE"
      },
      "source": [
        "## LSTM 신경망 훈련하기 - imdb에 적용"
      ]
    },
    {
      "cell_type": "code",
      "metadata": {
        "id": "ex2n4C1WZxFG"
      },
      "source": [
        "from tensorflow.keras.datasets import imdb\n",
        "from sklearn.model_selection import train_test_split\n",
        "(train_input, train_target), (test_input, test_target) = imdb.load_data(num_words=500)\n",
        "\n",
        "train_input, val_input, train_target, val_target = train_test_split(\n",
        "    train_input, train_target, test_size=0.2, random_state=42\n",
        ")"
      ],
      "execution_count": null,
      "outputs": []
    },
    {
      "cell_type": "code",
      "metadata": {
        "id": "QfnIkV5vdJIe"
      },
      "source": [
        "from tensorflow.keras.preprocessing.sequence import pad_sequences\n",
        "train_seq = pad_sequences(train_input, maxlen=100)\n",
        "val_seq = pad_sequences(val_input, maxlen=100)"
      ],
      "execution_count": null,
      "outputs": []
    },
    {
      "cell_type": "code",
      "metadata": {
        "id": "MzwITiaBdYbC"
      },
      "source": [
        "from tensorflow import keras\n",
        "model = keras.Sequential()\n",
        "model.add(keras.layers.Embedding(500, 16, input_length=100))\n",
        "model.add(keras.layers.LSTM(8))\n",
        "model.add(keras.layers.Dense(1, activation=\"sigmoid\"))"
      ],
      "execution_count": null,
      "outputs": []
    },
    {
      "cell_type": "code",
      "metadata": {
        "colab": {
          "base_uri": "https://localhost:8080/"
        },
        "id": "KgNQU0rcoWkG",
        "outputId": "4876be8c-3eb7-45c0-8cf0-6585cf7f44a9"
      },
      "source": [
        "model.summary()"
      ],
      "execution_count": null,
      "outputs": [
        {
          "output_type": "stream",
          "name": "stdout",
          "text": [
            "Model: \"sequential_2\"\n",
            "_________________________________________________________________\n",
            "Layer (type)                 Output Shape              Param #   \n",
            "=================================================================\n",
            "embedding_1 (Embedding)      (None, 100, 16)           8000      \n",
            "_________________________________________________________________\n",
            "lstm (LSTM)                  (None, 8)                 800       \n",
            "_________________________________________________________________\n",
            "dense_2 (Dense)              (None, 1)                 9         \n",
            "=================================================================\n",
            "Total params: 8,809\n",
            "Trainable params: 8,809\n",
            "Non-trainable params: 0\n",
            "_________________________________________________________________\n"
          ]
        }
      ]
    },
    {
      "cell_type": "code",
      "metadata": {
        "colab": {
          "base_uri": "https://localhost:8080/"
        },
        "id": "2kQy6mL5oa4y",
        "outputId": "47a6c932-b7cf-4d49-933f-302959e6a9da"
      },
      "source": [
        "rmsprop = keras.optimizers.RMSprop(learning_rate=1e-4)\n",
        "model.compile(optimizer=rmsprop, loss=\"binary_crossentropy\", metrics=[\"accuracy\"])\n",
        "checkpoint_cb = keras.callbacks.ModelCheckpoint(\"best-lstm-model.h5\", save_best_only=True)\n",
        "early_stopping_cb = keras.callbacks.EarlyStopping(patience=3, restore_best_weights=True)\n",
        "history = model.fit(train_seq, train_target, epochs=100, batch_size=64,\n",
        "                    validation_data=(val_seq, val_target),\n",
        "                    callbacks=[checkpoint_cb, early_stopping_cb])"
      ],
      "execution_count": null,
      "outputs": [
        {
          "output_type": "stream",
          "name": "stdout",
          "text": [
            "Epoch 1/100\n",
            "313/313 [==============================] - 11s 22ms/step - loss: 0.6919 - accuracy: 0.5451 - val_loss: 0.6911 - val_accuracy: 0.5688\n",
            "Epoch 2/100\n",
            "313/313 [==============================] - 6s 20ms/step - loss: 0.6889 - accuracy: 0.6138 - val_loss: 0.6874 - val_accuracy: 0.6140\n",
            "Epoch 3/100\n",
            "313/313 [==============================] - 6s 20ms/step - loss: 0.6825 - accuracy: 0.6472 - val_loss: 0.6782 - val_accuracy: 0.6522\n",
            "Epoch 4/100\n",
            "313/313 [==============================] - 6s 21ms/step - loss: 0.6646 - accuracy: 0.6644 - val_loss: 0.6466 - val_accuracy: 0.6750\n",
            "Epoch 5/100\n",
            "313/313 [==============================] - 6s 20ms/step - loss: 0.5991 - accuracy: 0.7137 - val_loss: 0.5729 - val_accuracy: 0.7388\n",
            "Epoch 6/100\n",
            "313/313 [==============================] - 6s 20ms/step - loss: 0.5535 - accuracy: 0.7488 - val_loss: 0.5442 - val_accuracy: 0.7486\n",
            "Epoch 7/100\n",
            "313/313 [==============================] - 6s 21ms/step - loss: 0.5265 - accuracy: 0.7648 - val_loss: 0.5211 - val_accuracy: 0.7670\n",
            "Epoch 8/100\n",
            "313/313 [==============================] - 6s 21ms/step - loss: 0.5050 - accuracy: 0.7737 - val_loss: 0.5031 - val_accuracy: 0.7776\n",
            "Epoch 9/100\n",
            "313/313 [==============================] - 6s 21ms/step - loss: 0.4868 - accuracy: 0.7834 - val_loss: 0.4878 - val_accuracy: 0.7802\n",
            "Epoch 10/100\n",
            "313/313 [==============================] - 6s 20ms/step - loss: 0.4729 - accuracy: 0.7901 - val_loss: 0.4773 - val_accuracy: 0.7892\n",
            "Epoch 11/100\n",
            "313/313 [==============================] - 6s 21ms/step - loss: 0.4614 - accuracy: 0.7944 - val_loss: 0.4683 - val_accuracy: 0.7876\n",
            "Epoch 12/100\n",
            "313/313 [==============================] - 7s 21ms/step - loss: 0.4523 - accuracy: 0.7987 - val_loss: 0.4635 - val_accuracy: 0.7896\n",
            "Epoch 13/100\n",
            "313/313 [==============================] - 6s 21ms/step - loss: 0.4456 - accuracy: 0.8020 - val_loss: 0.4575 - val_accuracy: 0.7906\n",
            "Epoch 14/100\n",
            "313/313 [==============================] - 6s 21ms/step - loss: 0.4403 - accuracy: 0.8040 - val_loss: 0.4529 - val_accuracy: 0.7932\n",
            "Epoch 15/100\n",
            "313/313 [==============================] - 6s 21ms/step - loss: 0.4356 - accuracy: 0.8070 - val_loss: 0.4506 - val_accuracy: 0.7930\n",
            "Epoch 16/100\n",
            "313/313 [==============================] - 6s 21ms/step - loss: 0.4318 - accuracy: 0.8076 - val_loss: 0.4471 - val_accuracy: 0.7940\n",
            "Epoch 17/100\n",
            "313/313 [==============================] - 6s 21ms/step - loss: 0.4286 - accuracy: 0.8081 - val_loss: 0.4455 - val_accuracy: 0.7974\n",
            "Epoch 18/100\n",
            "313/313 [==============================] - 6s 20ms/step - loss: 0.4257 - accuracy: 0.8107 - val_loss: 0.4437 - val_accuracy: 0.7984\n",
            "Epoch 19/100\n",
            "313/313 [==============================] - 6s 20ms/step - loss: 0.4236 - accuracy: 0.8115 - val_loss: 0.4413 - val_accuracy: 0.7950\n",
            "Epoch 20/100\n",
            "313/313 [==============================] - 6s 20ms/step - loss: 0.4211 - accuracy: 0.8129 - val_loss: 0.4408 - val_accuracy: 0.7948\n",
            "Epoch 21/100\n",
            "313/313 [==============================] - 6s 20ms/step - loss: 0.4194 - accuracy: 0.8124 - val_loss: 0.4397 - val_accuracy: 0.7978\n",
            "Epoch 22/100\n",
            "313/313 [==============================] - 6s 20ms/step - loss: 0.4175 - accuracy: 0.8145 - val_loss: 0.4409 - val_accuracy: 0.7990\n",
            "Epoch 23/100\n",
            "313/313 [==============================] - 6s 20ms/step - loss: 0.4160 - accuracy: 0.8149 - val_loss: 0.4396 - val_accuracy: 0.7960\n",
            "Epoch 24/100\n",
            "313/313 [==============================] - 6s 20ms/step - loss: 0.4146 - accuracy: 0.8159 - val_loss: 0.4356 - val_accuracy: 0.7968\n",
            "Epoch 25/100\n",
            "313/313 [==============================] - 6s 21ms/step - loss: 0.4134 - accuracy: 0.8158 - val_loss: 0.4482 - val_accuracy: 0.7888\n",
            "Epoch 26/100\n",
            "313/313 [==============================] - 6s 20ms/step - loss: 0.4125 - accuracy: 0.8169 - val_loss: 0.4349 - val_accuracy: 0.7980\n",
            "Epoch 27/100\n",
            "313/313 [==============================] - 6s 21ms/step - loss: 0.4107 - accuracy: 0.8177 - val_loss: 0.4333 - val_accuracy: 0.7978\n",
            "Epoch 28/100\n",
            "313/313 [==============================] - 6s 21ms/step - loss: 0.4098 - accuracy: 0.8188 - val_loss: 0.4353 - val_accuracy: 0.7976\n",
            "Epoch 29/100\n",
            "313/313 [==============================] - 6s 20ms/step - loss: 0.4086 - accuracy: 0.8191 - val_loss: 0.4391 - val_accuracy: 0.8016\n",
            "Epoch 30/100\n",
            "313/313 [==============================] - 6s 21ms/step - loss: 0.4077 - accuracy: 0.8187 - val_loss: 0.4317 - val_accuracy: 0.8022\n",
            "Epoch 31/100\n",
            "313/313 [==============================] - 6s 20ms/step - loss: 0.4072 - accuracy: 0.8190 - val_loss: 0.4321 - val_accuracy: 0.7994\n",
            "Epoch 32/100\n",
            "313/313 [==============================] - 6s 21ms/step - loss: 0.4059 - accuracy: 0.8207 - val_loss: 0.4309 - val_accuracy: 0.8000\n",
            "Epoch 33/100\n",
            "313/313 [==============================] - 6s 20ms/step - loss: 0.4051 - accuracy: 0.8192 - val_loss: 0.4316 - val_accuracy: 0.8030\n",
            "Epoch 34/100\n",
            "313/313 [==============================] - 6s 20ms/step - loss: 0.4040 - accuracy: 0.8223 - val_loss: 0.4298 - val_accuracy: 0.8010\n",
            "Epoch 35/100\n",
            "313/313 [==============================] - 6s 21ms/step - loss: 0.4029 - accuracy: 0.8220 - val_loss: 0.4307 - val_accuracy: 0.7996\n",
            "Epoch 36/100\n",
            "313/313 [==============================] - 6s 20ms/step - loss: 0.4025 - accuracy: 0.8206 - val_loss: 0.4302 - val_accuracy: 0.7994\n",
            "Epoch 37/100\n",
            "313/313 [==============================] - 6s 21ms/step - loss: 0.4021 - accuracy: 0.8223 - val_loss: 0.4287 - val_accuracy: 0.8006\n",
            "Epoch 38/100\n",
            "313/313 [==============================] - 6s 20ms/step - loss: 0.4009 - accuracy: 0.8222 - val_loss: 0.4273 - val_accuracy: 0.8016\n",
            "Epoch 39/100\n",
            "313/313 [==============================] - 6s 20ms/step - loss: 0.4004 - accuracy: 0.8227 - val_loss: 0.4267 - val_accuracy: 0.8008\n",
            "Epoch 40/100\n",
            "313/313 [==============================] - 6s 20ms/step - loss: 0.3993 - accuracy: 0.8238 - val_loss: 0.4326 - val_accuracy: 0.8034\n",
            "Epoch 41/100\n",
            "313/313 [==============================] - 6s 21ms/step - loss: 0.3990 - accuracy: 0.8236 - val_loss: 0.4275 - val_accuracy: 0.8030\n",
            "Epoch 42/100\n",
            "313/313 [==============================] - 6s 20ms/step - loss: 0.3981 - accuracy: 0.8239 - val_loss: 0.4253 - val_accuracy: 0.8042\n",
            "Epoch 43/100\n",
            "313/313 [==============================] - 6s 20ms/step - loss: 0.3972 - accuracy: 0.8244 - val_loss: 0.4257 - val_accuracy: 0.8034\n",
            "Epoch 44/100\n",
            "313/313 [==============================] - 6s 21ms/step - loss: 0.3967 - accuracy: 0.8240 - val_loss: 0.4286 - val_accuracy: 0.8052\n",
            "Epoch 45/100\n",
            "313/313 [==============================] - 6s 21ms/step - loss: 0.3960 - accuracy: 0.8249 - val_loss: 0.4267 - val_accuracy: 0.8038\n"
          ]
        }
      ]
    },
    {
      "cell_type": "code",
      "metadata": {
        "colab": {
          "base_uri": "https://localhost:8080/",
          "height": 279
        },
        "id": "DTI0p_cFqOH7",
        "outputId": "47c2ac13-2863-4af6-c8b7-54b7bac330b0"
      },
      "source": [
        "import matplotlib.pyplot as plt\n",
        "\n",
        "plt.plot(history.history[\"loss\"])\n",
        "plt.plot(history.history[\"val_loss\"])\n",
        "plt.xlabel(\"epoch\")\n",
        "plt.ylabel(\"loss\")\n",
        "plt.legend([\"train\", \"val\"])\n",
        "plt.show()"
      ],
      "execution_count": null,
      "outputs": [
        {
          "output_type": "display_data",
          "data": {
            "image/png": "[encoded data removed]",
            "text/plain": [
              "<Figure size 432x288 with 1 Axes>"
            ]
          },
          "metadata": {
            "needs_background": "light"
          }
        }
      ]
    },
    {
      "cell_type": "markdown",
      "metadata": {
        "id": "ZJzbNNghuxeV"
      },
      "source": [
        "## 2개의 층을 연결하기"
      ]
    },
    {
      "cell_type": "code",
      "metadata": {
        "id": "_aEwiwIVvKRQ"
      },
      "source": [
        "model3 = keras.Sequential()\n",
        "model3.add(keras.layers.Embedding(500, 16, input_length=100))\n",
        "model3.add(keras.layers.LSTM(8, dropout=0.3, return_sequences=True))\n",
        "model3.add(keras.layers.LSTM(8,dropout=0.3))\n",
        "model3.add(keras.layers.Dense(1, activation=\"sigmoid\"))\n"
      ],
      "execution_count": null,
      "outputs": []
    },
    {
      "cell_type": "code",
      "metadata": {
        "colab": {
          "base_uri": "https://localhost:8080/"
        },
        "id": "KAiKqJ2Pv55L",
        "outputId": "afb3f4b3-c193-453d-c475-c652e9491054"
      },
      "source": [
        "model3.summary()"
      ],
      "execution_count": null,
      "outputs": [
        {
          "output_type": "stream",
          "name": "stdout",
          "text": [
            "Model: \"sequential_3\"\n",
            "_________________________________________________________________\n",
            "Layer (type)                 Output Shape              Param #   \n",
            "=================================================================\n",
            "embedding_2 (Embedding)      (None, 100, 16)           8000      \n",
            "_________________________________________________________________\n",
            "lstm_1 (LSTM)                (None, 100, 8)            800       \n",
            "_________________________________________________________________\n",
            "lstm_2 (LSTM)                (None, 8)                 544       \n",
            "_________________________________________________________________\n",
            "dense_3 (Dense)              (None, 1)                 9         \n",
            "=================================================================\n",
            "Total params: 9,353\n",
            "Trainable params: 9,353\n",
            "Non-trainable params: 0\n",
            "_________________________________________________________________\n"
          ]
        }
      ]
    },
    {
      "cell_type": "code",
      "metadata": {
        "colab": {
          "base_uri": "https://localhost:8080/"
        },
        "id": "arvgJFdOwAsF",
        "outputId": "a12c6c1a-f8b5-42d1-9621-8479ae3c4f2e"
      },
      "source": [
        "rmsprop = keras.optimizers.RMSprop(learning_rate=1e-4)\n",
        "model3.compile(optimizer=rmsprop, loss=\"binary_crossentropy\", metrics=[\"accuracy\"])\n",
        "checkpoint_cb = keras.callbacks.ModelCheckpoint(\"best-2rnn-model.h5\",\n",
        "                                                save_best_only=True)\n",
        "early_stopping_cb = keras.callbacks.EarlyStopping(patience=3,\n",
        "                                                  restore_best_weights=True)\n",
        "history = model3.fit(train_seq, train_target, epochs=100, batch_size=64,\n",
        "                     validation_data=(val_seq, val_target),\n",
        "                     callbacks=[checkpoint_cb, early_stopping_cb])"
      ],
      "execution_count": null,
      "outputs": [
        {
          "output_type": "stream",
          "name": "stdout",
          "text": [
            "Epoch 1/100\n",
            "313/313 [==============================] - 18s 45ms/step - loss: 0.6925 - accuracy: 0.5426 - val_loss: 0.6912 - val_accuracy: 0.6206\n",
            "Epoch 2/100\n",
            "313/313 [==============================] - 13s 42ms/step - loss: 0.6875 - accuracy: 0.6114 - val_loss: 0.6790 - val_accuracy: 0.6442\n",
            "Epoch 3/100\n",
            "313/313 [==============================] - 13s 42ms/step - loss: 0.6469 - accuracy: 0.6707 - val_loss: 0.5972 - val_accuracy: 0.6984\n",
            "Epoch 4/100\n",
            "313/313 [==============================] - 13s 42ms/step - loss: 0.5756 - accuracy: 0.7166 - val_loss: 0.5529 - val_accuracy: 0.7294\n",
            "Epoch 5/100\n",
            "313/313 [==============================] - 13s 42ms/step - loss: 0.5430 - accuracy: 0.7418 - val_loss: 0.5248 - val_accuracy: 0.7540\n",
            "Epoch 6/100\n",
            "313/313 [==============================] - 13s 42ms/step - loss: 0.5210 - accuracy: 0.7570 - val_loss: 0.5087 - val_accuracy: 0.7648\n",
            "Epoch 7/100\n",
            "313/313 [==============================] - 13s 42ms/step - loss: 0.5061 - accuracy: 0.7674 - val_loss: 0.4955 - val_accuracy: 0.7726\n",
            "Epoch 8/100\n",
            "313/313 [==============================] - 13s 42ms/step - loss: 0.4948 - accuracy: 0.7734 - val_loss: 0.4868 - val_accuracy: 0.7774\n",
            "Epoch 9/100\n",
            "313/313 [==============================] - 13s 42ms/step - loss: 0.4854 - accuracy: 0.7778 - val_loss: 0.4775 - val_accuracy: 0.7784\n",
            "Epoch 10/100\n",
            "313/313 [==============================] - 13s 42ms/step - loss: 0.4773 - accuracy: 0.7804 - val_loss: 0.4702 - val_accuracy: 0.7854\n",
            "Epoch 11/100\n",
            "313/313 [==============================] - 13s 42ms/step - loss: 0.4697 - accuracy: 0.7853 - val_loss: 0.4650 - val_accuracy: 0.7860\n",
            "Epoch 12/100\n",
            "313/313 [==============================] - 13s 42ms/step - loss: 0.4667 - accuracy: 0.7840 - val_loss: 0.4606 - val_accuracy: 0.7912\n",
            "Epoch 13/100\n",
            "313/313 [==============================] - 13s 42ms/step - loss: 0.4596 - accuracy: 0.7880 - val_loss: 0.4588 - val_accuracy: 0.7868\n",
            "Epoch 14/100\n",
            "313/313 [==============================] - 13s 42ms/step - loss: 0.4549 - accuracy: 0.7905 - val_loss: 0.4577 - val_accuracy: 0.7880\n",
            "Epoch 15/100\n",
            "313/313 [==============================] - 13s 42ms/step - loss: 0.4541 - accuracy: 0.7921 - val_loss: 0.4527 - val_accuracy: 0.7886\n",
            "Epoch 16/100\n",
            "313/313 [==============================] - 13s 42ms/step - loss: 0.4483 - accuracy: 0.7957 - val_loss: 0.4540 - val_accuracy: 0.7862\n",
            "Epoch 17/100\n",
            "313/313 [==============================] - 13s 42ms/step - loss: 0.4465 - accuracy: 0.7956 - val_loss: 0.4493 - val_accuracy: 0.7920\n",
            "Epoch 18/100\n",
            "313/313 [==============================] - 13s 42ms/step - loss: 0.4449 - accuracy: 0.7969 - val_loss: 0.4507 - val_accuracy: 0.7906\n",
            "Epoch 19/100\n",
            "313/313 [==============================] - 13s 42ms/step - loss: 0.4438 - accuracy: 0.7979 - val_loss: 0.4512 - val_accuracy: 0.7890\n",
            "Epoch 20/100\n",
            "313/313 [==============================] - 13s 42ms/step - loss: 0.4430 - accuracy: 0.7987 - val_loss: 0.4473 - val_accuracy: 0.7890\n",
            "Epoch 21/100\n",
            "313/313 [==============================] - 13s 42ms/step - loss: 0.4398 - accuracy: 0.7977 - val_loss: 0.4430 - val_accuracy: 0.7956\n",
            "Epoch 22/100\n",
            "313/313 [==============================] - 13s 42ms/step - loss: 0.4370 - accuracy: 0.8008 - val_loss: 0.4449 - val_accuracy: 0.7960\n",
            "Epoch 23/100\n",
            "313/313 [==============================] - 13s 42ms/step - loss: 0.4372 - accuracy: 0.7994 - val_loss: 0.4414 - val_accuracy: 0.7950\n",
            "Epoch 24/100\n",
            "313/313 [==============================] - 13s 42ms/step - loss: 0.4356 - accuracy: 0.8020 - val_loss: 0.4413 - val_accuracy: 0.7966\n",
            "Epoch 25/100\n",
            "313/313 [==============================] - 13s 42ms/step - loss: 0.4335 - accuracy: 0.7988 - val_loss: 0.4403 - val_accuracy: 0.7976\n",
            "Epoch 26/100\n",
            "313/313 [==============================] - 13s 42ms/step - loss: 0.4325 - accuracy: 0.8044 - val_loss: 0.4389 - val_accuracy: 0.7948\n",
            "Epoch 27/100\n",
            "313/313 [==============================] - 13s 42ms/step - loss: 0.4329 - accuracy: 0.8018 - val_loss: 0.4397 - val_accuracy: 0.7988\n",
            "Epoch 28/100\n",
            "313/313 [==============================] - 13s 42ms/step - loss: 0.4308 - accuracy: 0.8007 - val_loss: 0.4372 - val_accuracy: 0.7970\n",
            "Epoch 29/100\n",
            "313/313 [==============================] - 13s 42ms/step - loss: 0.4295 - accuracy: 0.8048 - val_loss: 0.4373 - val_accuracy: 0.7960\n",
            "Epoch 30/100\n",
            "313/313 [==============================] - 13s 42ms/step - loss: 0.4302 - accuracy: 0.8034 - val_loss: 0.4363 - val_accuracy: 0.7972\n",
            "Epoch 31/100\n",
            "313/313 [==============================] - 13s 42ms/step - loss: 0.4285 - accuracy: 0.8030 - val_loss: 0.4490 - val_accuracy: 0.7930\n",
            "Epoch 32/100\n",
            "313/313 [==============================] - 13s 42ms/step - loss: 0.4291 - accuracy: 0.8019 - val_loss: 0.4356 - val_accuracy: 0.7992\n",
            "Epoch 33/100\n",
            "313/313 [==============================] - 13s 42ms/step - loss: 0.4277 - accuracy: 0.8043 - val_loss: 0.4384 - val_accuracy: 0.7980\n",
            "Epoch 34/100\n",
            "313/313 [==============================] - 13s 42ms/step - loss: 0.4261 - accuracy: 0.8049 - val_loss: 0.4342 - val_accuracy: 0.7998\n",
            "Epoch 35/100\n",
            "313/313 [==============================] - 13s 42ms/step - loss: 0.4267 - accuracy: 0.8039 - val_loss: 0.4374 - val_accuracy: 0.7946\n",
            "Epoch 36/100\n",
            "313/313 [==============================] - 13s 42ms/step - loss: 0.4256 - accuracy: 0.8044 - val_loss: 0.4344 - val_accuracy: 0.7960\n",
            "Epoch 37/100\n",
            "313/313 [==============================] - 13s 42ms/step - loss: 0.4270 - accuracy: 0.8049 - val_loss: 0.4347 - val_accuracy: 0.7998\n"
          ]
        }
      ]
    },
    {
      "cell_type": "code",
      "metadata": {
        "id": "ERhqTTXtx2sf"
      },
      "source": [
        "plt.plot(history.history[\"loss\"])\n",
        "plt.plot(history.history[\"val_loss\"])\n",
        "plt.xlabel(\"epoch\")\n",
        "plt.ylabel(\"loss\")\n",
        "plt.legend([\"train\", \"val\"])\n",
        "plt.show()"
      ],
      "execution_count": null,
      "outputs": []
    },
    {
      "cell_type": "markdown",
      "metadata": {
        "id": "VsLxCGG1YUCl"
      },
      "source": [
        "## GRU 신경망 훈련하기"
      ]
    },
    {
      "cell_type": "code",
      "metadata": {
        "id": "mnNF6yTxYSBA"
      },
      "source": [
        "model4 = keras.Sequential()\n",
        "model4.add(keras.layers.Embedding(500, 16, input_length=100))\n",
        "model4.add(keras.layers.GRU(8))\n",
        "model4.add(keras.layers.Dense(1, activation=\"sigmoid\"))"
      ],
      "execution_count": null,
      "outputs": []
    },
    {
      "cell_type": "code",
      "metadata": {
        "colab": {
          "base_uri": "https://localhost:8080/"
        },
        "id": "rSEWQ-ygZ08s",
        "outputId": "55da707b-0bee-41a6-d7a0-c28df4aea1d2"
      },
      "source": [
        "model4.summary()"
      ],
      "execution_count": null,
      "outputs": [
        {
          "output_type": "stream",
          "name": "stdout",
          "text": [
            "Model: \"sequential_5\"\n",
            "_________________________________________________________________\n",
            "Layer (type)                 Output Shape              Param #   \n",
            "=================================================================\n",
            "embedding_4 (Embedding)      (None, 100, 16)           8000      \n",
            "_________________________________________________________________\n",
            "gru_1 (GRU)                  (None, 8)                 624       \n",
            "_________________________________________________________________\n",
            "dense_4 (Dense)              (None, 1)                 9         \n",
            "=================================================================\n",
            "Total params: 8,633\n",
            "Trainable params: 8,633\n",
            "Non-trainable params: 0\n",
            "_________________________________________________________________\n"
          ]
        }
      ]
    },
    {
      "cell_type": "code",
      "metadata": {
        "colab": {
          "base_uri": "https://localhost:8080/"
        },
        "id": "wiXI6kY1Z2aj",
        "outputId": "1af74d46-af84-4aa8-ad6b-af0d8ba04f98"
      },
      "source": [
        "rmsprop = keras.optimizers.RMSprop(learning_rate=1e-4)\n",
        "model4.compile(optimizer=rmsprop, loss=\"binary_crossentropy\", metrics=[\"accuracy\"])\n",
        "checkpoint_cb = keras.callbacks.ModelCheckpoint(\"best-2rnn-model.h5\",\n",
        "                                                save_best_only=True)\n",
        "early_stopping_cb = keras.callbacks.EarlyStopping(patience=3,\n",
        "                                                  restore_best_weights=True)\n",
        "history = model4.fit(train_seq, train_target, epochs=100, batch_size=64,\n",
        "                     validation_data=(val_seq, val_target),\n",
        "                     callbacks=[checkpoint_cb, early_stopping_cb])"
      ],
      "execution_count": null,
      "outputs": [
        {
          "output_type": "stream",
          "name": "stdout",
          "text": [
            "Epoch 1/100\n",
            "313/313 [==============================] - 9s 22ms/step - loss: 0.6924 - accuracy: 0.5209 - val_loss: 0.6919 - val_accuracy: 0.5292\n",
            "Epoch 2/100\n",
            "313/313 [==============================] - 6s 20ms/step - loss: 0.6902 - accuracy: 0.5734 - val_loss: 0.6893 - val_accuracy: 0.5826\n",
            "Epoch 3/100\n",
            "313/313 [==============================] - 6s 20ms/step - loss: 0.6865 - accuracy: 0.6044 - val_loss: 0.6848 - val_accuracy: 0.6122\n",
            "Epoch 4/100\n",
            "313/313 [==============================] - 6s 20ms/step - loss: 0.6803 - accuracy: 0.6289 - val_loss: 0.6775 - val_accuracy: 0.6176\n",
            "Epoch 5/100\n",
            "313/313 [==============================] - 6s 20ms/step - loss: 0.6703 - accuracy: 0.6391 - val_loss: 0.6660 - val_accuracy: 0.6256\n",
            "Epoch 6/100\n",
            "313/313 [==============================] - 6s 20ms/step - loss: 0.6546 - accuracy: 0.6503 - val_loss: 0.6484 - val_accuracy: 0.6444\n",
            "Epoch 7/100\n",
            "313/313 [==============================] - 6s 20ms/step - loss: 0.6302 - accuracy: 0.6697 - val_loss: 0.6196 - val_accuracy: 0.6710\n",
            "Epoch 8/100\n",
            "313/313 [==============================] - 6s 20ms/step - loss: 0.5887 - accuracy: 0.6959 - val_loss: 0.5695 - val_accuracy: 0.7098\n",
            "Epoch 9/100\n",
            "313/313 [==============================] - 6s 20ms/step - loss: 0.5271 - accuracy: 0.7365 - val_loss: 0.5206 - val_accuracy: 0.7440\n",
            "Epoch 10/100\n",
            "313/313 [==============================] - 6s 20ms/step - loss: 0.4942 - accuracy: 0.7616 - val_loss: 0.4944 - val_accuracy: 0.7646\n",
            "Epoch 11/100\n",
            "313/313 [==============================] - 6s 20ms/step - loss: 0.4774 - accuracy: 0.7742 - val_loss: 0.4805 - val_accuracy: 0.7742\n",
            "Epoch 12/100\n",
            "313/313 [==============================] - 6s 20ms/step - loss: 0.4642 - accuracy: 0.7836 - val_loss: 0.4704 - val_accuracy: 0.7782\n",
            "Epoch 13/100\n",
            "313/313 [==============================] - 6s 20ms/step - loss: 0.4540 - accuracy: 0.7896 - val_loss: 0.4641 - val_accuracy: 0.7784\n",
            "Epoch 14/100\n",
            "313/313 [==============================] - 6s 20ms/step - loss: 0.4459 - accuracy: 0.7955 - val_loss: 0.4575 - val_accuracy: 0.7836\n",
            "Epoch 15/100\n",
            "313/313 [==============================] - 6s 20ms/step - loss: 0.4400 - accuracy: 0.7999 - val_loss: 0.4537 - val_accuracy: 0.7822\n",
            "Epoch 16/100\n",
            "313/313 [==============================] - 6s 20ms/step - loss: 0.4350 - accuracy: 0.8008 - val_loss: 0.4492 - val_accuracy: 0.7882\n",
            "Epoch 17/100\n",
            "313/313 [==============================] - 6s 20ms/step - loss: 0.4312 - accuracy: 0.8036 - val_loss: 0.4477 - val_accuracy: 0.7880\n",
            "Epoch 18/100\n",
            "313/313 [==============================] - 6s 20ms/step - loss: 0.4283 - accuracy: 0.8059 - val_loss: 0.4450 - val_accuracy: 0.7948\n",
            "Epoch 19/100\n",
            "313/313 [==============================] - 6s 20ms/step - loss: 0.4258 - accuracy: 0.8086 - val_loss: 0.4436 - val_accuracy: 0.7936\n",
            "Epoch 20/100\n",
            "313/313 [==============================] - 6s 20ms/step - loss: 0.4241 - accuracy: 0.8089 - val_loss: 0.4425 - val_accuracy: 0.7944\n",
            "Epoch 21/100\n",
            "313/313 [==============================] - 6s 20ms/step - loss: 0.4223 - accuracy: 0.8116 - val_loss: 0.4431 - val_accuracy: 0.7966\n",
            "Epoch 22/100\n",
            "313/313 [==============================] - 6s 21ms/step - loss: 0.4205 - accuracy: 0.8133 - val_loss: 0.4423 - val_accuracy: 0.7956\n",
            "Epoch 23/100\n",
            "313/313 [==============================] - 6s 20ms/step - loss: 0.4197 - accuracy: 0.8132 - val_loss: 0.4416 - val_accuracy: 0.7962\n",
            "Epoch 24/100\n",
            "313/313 [==============================] - 6s 20ms/step - loss: 0.4185 - accuracy: 0.8137 - val_loss: 0.4409 - val_accuracy: 0.7964\n",
            "Epoch 25/100\n",
            "313/313 [==============================] - 6s 20ms/step - loss: 0.4178 - accuracy: 0.8144 - val_loss: 0.4414 - val_accuracy: 0.7920\n",
            "Epoch 26/100\n",
            "313/313 [==============================] - 6s 20ms/step - loss: 0.4167 - accuracy: 0.8148 - val_loss: 0.4408 - val_accuracy: 0.7954\n",
            "Epoch 27/100\n",
            "313/313 [==============================] - 6s 20ms/step - loss: 0.4163 - accuracy: 0.8145 - val_loss: 0.4404 - val_accuracy: 0.7952\n",
            "Epoch 28/100\n",
            "  7/313 [..............................] - ETA: 5s - loss: 0.4589 - accuracy: 0.7924"
          ]
        }
      ]
    },
    {
      "cell_type": "code",
      "metadata": {
        "id": "r2S0wvvNZ_Wd"
      },
      "source": [
        "plt.plot(history.history[\"loss\"])\n",
        "plt.plot(history.history[\"val_loss\"])\n",
        "plt.xlabel(\"epoch\")\n",
        "plt.ylabel(\"loss\")\n",
        "plt.legend([\"train\", \"val\"])\n",
        "plt.show()"
      ],
      "execution_count": null,
      "outputs": []
    },
    {
      "cell_type": "markdown",
      "metadata": {
        "id": "MbPe6iLdaEbE"
      },
      "source": [
        "## LSTM과 GRU 셀로 훈련"
      ]
    },
    {
      "cell_type": "code",
      "metadata": {
        "id": "TNNagmdsaBQL"
      },
      "source": [
        "test_seq = pad_sequences(test_input, maxlen=100)\n",
        "rnn_model = keras.models.load_model(\"best-2rnn-model.h5\")\n",
        "rnn_model.evaluate(test_seq, test_target)"
      ],
      "execution_count": null,
      "outputs": []
    },
    {
      "cell_type": "code",
      "metadata": {
        "id": "gsjgM07IaR9h"
      },
      "source": [
        ""
      ],
      "execution_count": null,
      "outputs": []
    }
  ]
}